{
 "cells": [
  {
   "cell_type": "code",
   "execution_count": 1,
   "metadata": {},
   "outputs": [
    {
     "name": "stderr",
     "output_type": "stream",
     "text": [
      "also installing the dependencies ‘dotCall64’, ‘spam’, ‘som’, ‘fields’\n",
      "\n",
      "Updating HTML index of packages in '.Library'\n",
      "Making 'packages.html' ... done\n"
     ]
    }
   ],
   "source": [
    "install.packages(\"popsom\")"
   ]
  },
  {
   "cell_type": "code",
   "execution_count": 2,
   "metadata": {},
   "outputs": [
    {
     "name": "stderr",
     "output_type": "stream",
     "text": [
      "also installing the dependency ‘rlang’\n",
      "\n",
      "Updating HTML index of packages in '.Library'\n",
      "Making 'packages.html' ... done\n"
     ]
    }
   ],
   "source": [
    "install.packages(\"dplyr\")"
   ]
  },
  {
   "cell_type": "code",
   "execution_count": null,
   "metadata": {},
   "outputs": [
    {
     "name": "stderr",
     "output_type": "stream",
     "text": [
      "system (cmd0): /home/ec2-user/anaconda3/envs/R/lib/R/bin/R CMD INSTALL\n",
      "also installing the dependencies ‘desc’, ‘pkgbuild’, ‘rprojroot’, ‘pkgload’, ‘praise’, ‘testthat’, ‘isoband’\n",
      "\n",
      "foundpkgs: desc, pkgbuild, rprojroot, pkgload, praise, testthat, isoband, ggplot2, /tmp/RtmpgQ9rug/downloaded_packages/desc_1.2.0.tar.gz, /tmp/RtmpgQ9rug/downloaded_packages/pkgbuild_1.0.6.tar.gz, /tmp/RtmpgQ9rug/downloaded_packages/rprojroot_1.3-2.tar.gz, /tmp/RtmpgQ9rug/downloaded_packages/pkgload_1.0.2.tar.gz, /tmp/RtmpgQ9rug/downloaded_packages/praise_1.0.0.tar.gz, /tmp/RtmpgQ9rug/downloaded_packages/testthat_2.3.2.tar.gz, /tmp/RtmpgQ9rug/downloaded_packages/isoband_0.2.1.tar.gz, /tmp/RtmpgQ9rug/downloaded_packages/ggplot2_3.3.0.tar.gz\n",
      "files: /tmp/RtmpgQ9rug/downloaded_packages/desc_1.2.0.tar.gz, \n",
      "\t/tmp/RtmpgQ9rug/downloaded_packages/pkgbuild_1.0.6.tar.gz, \n",
      "\t/tmp/RtmpgQ9rug/downloaded_packages/rprojroot_1.3-2.tar.gz, \n",
      "\t/tmp/RtmpgQ9rug/downloaded_packages/pkgload_1.0.2.tar.gz, \n",
      "\t/tmp/RtmpgQ9rug/downloaded_packages/praise_1.0.0.tar.gz, \n",
      "\t/tmp/RtmpgQ9rug/downloaded_packages/testthat_2.3.2.tar.gz, \n",
      "\t/tmp/RtmpgQ9rug/downloaded_packages/isoband_0.2.1.tar.gz, \n",
      "\t/tmp/RtmpgQ9rug/downloaded_packages/ggplot2_3.3.0.tar.gz\n",
      "1): succeeded '/home/ec2-user/anaconda3/envs/R/lib/R/bin/R CMD INSTALL -l '/home/ec2-user/anaconda3/envs/R/lib/R/library' /tmp/RtmpgQ9rug/downloaded_packages/rprojroot_1.3-2.tar.gz'\n",
      "2): succeeded '/home/ec2-user/anaconda3/envs/R/lib/R/bin/R CMD INSTALL -l '/home/ec2-user/anaconda3/envs/R/lib/R/library' /tmp/RtmpgQ9rug/downloaded_packages/praise_1.0.0.tar.gz'\n",
      "3): succeeded '/home/ec2-user/anaconda3/envs/R/lib/R/bin/R CMD INSTALL -l '/home/ec2-user/anaconda3/envs/R/lib/R/library' /tmp/RtmpgQ9rug/downloaded_packages/desc_1.2.0.tar.gz'\n",
      "4): succeeded '/home/ec2-user/anaconda3/envs/R/lib/R/bin/R CMD INSTALL -l '/home/ec2-user/anaconda3/envs/R/lib/R/library' /tmp/RtmpgQ9rug/downloaded_packages/pkgbuild_1.0.6.tar.gz'\n",
      "5): succeeded '/home/ec2-user/anaconda3/envs/R/lib/R/bin/R CMD INSTALL -l '/home/ec2-user/anaconda3/envs/R/lib/R/library' /tmp/RtmpgQ9rug/downloaded_packages/pkgload_1.0.2.tar.gz'\n",
      "6): succeeded '/home/ec2-user/anaconda3/envs/R/lib/R/bin/R CMD INSTALL -l '/home/ec2-user/anaconda3/envs/R/lib/R/library' /tmp/RtmpgQ9rug/downloaded_packages/testthat_2.3.2.tar.gz'\n"
     ]
    }
   ],
   "source": [
    "install.packages(\"ggplot2\", verbose=TRUE)"
   ]
  },
  {
   "cell_type": "code",
   "execution_count": null,
   "metadata": {},
   "outputs": [],
   "source": []
  }
 ],
 "metadata": {
  "kernelspec": {
   "display_name": "R",
   "language": "R",
   "name": "ir"
  },
  "language_info": {
   "codemirror_mode": "r",
   "file_extension": ".r",
   "mimetype": "text/x-r-source",
   "name": "R",
   "pygments_lexer": "r",
   "version": "3.6.1"
  }
 },
 "nbformat": 4,
 "nbformat_minor": 4
}
