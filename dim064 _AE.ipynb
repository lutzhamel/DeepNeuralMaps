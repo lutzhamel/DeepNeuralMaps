{
 "cells": [
  {
   "cell_type": "markdown",
   "metadata": {},
   "source": [
    "# Autoencoder for dim064 dataset"
   ]
  },
  {
   "cell_type": "code",
   "execution_count": 1,
   "metadata": {},
   "outputs": [
    {
     "name": "stderr",
     "output_type": "stream",
     "text": [
      "Using TensorFlow backend.\n"
     ]
    },
    {
     "name": "stdout",
     "output_type": "stream",
     "text": [
      "WARNING:tensorflow:From /home/ec2-user/anaconda3/envs/tensorflow_p36/lib/python3.6/site-packages/tensorflow_core/__init__.py:1467: The name tf.estimator.inputs is deprecated. Please use tf.compat.v1.estimator.inputs instead.\n",
      "\n"
     ]
    }
   ],
   "source": [
    "import pandas as pd\n",
    "import numpy as np\n",
    "from keras.models import Model,load_model\n",
    "from keras.callbacks import ModelCheckpoint, TensorBoard\n",
    "import matplotlib.pyplot as plt\n",
    "from keras import regularizers\n",
    "from keras.layers import Input, Dense, Conv1D, MaxPooling1D, UpSampling1D\n",
    "from keras.models import Model\n",
    "from keras import backend as K"
   ]
  },
  {
   "cell_type": "code",
   "execution_count": 2,
   "metadata": {},
   "outputs": [],
   "source": [
    "#read data\n",
    "x_train = pd.read_csv('dataset/dim064_train.csv')\n",
    "x_test = pd.read_csv('dataset/dim064_test.csv')\n",
    "#y_train = pd.read_csv('dataset/dim064_train_label.csv')\n",
    "#y_train = np.asarray(y_train)\n",
    "#y_test = pd.read_csv('dataset/dim064_test_label.csv')\n",
    "#y_test = np.asarray(y_test)"
   ]
  },
  {
   "cell_type": "code",
   "execution_count": 3,
   "metadata": {},
   "outputs": [],
   "source": [
    "# ## Normalization\n",
    "# #x_train.max().max()\n",
    "# x_train = x_train.astype('float32') / 157.\n",
    "# x_test = x_test.astype('float32') / 157."
   ]
  },
  {
   "cell_type": "markdown",
   "metadata": {},
   "source": [
    "# Basic Autoencoder"
   ]
  },
  {
   "cell_type": "code",
   "execution_count": 4,
   "metadata": {},
   "outputs": [
    {
     "name": "stdout",
     "output_type": "stream",
     "text": [
      "WARNING:tensorflow:From /home/ec2-user/anaconda3/envs/tensorflow_p36/lib/python3.6/site-packages/keras/backend/tensorflow_backend.py:74: The name tf.get_default_graph is deprecated. Please use tf.compat.v1.get_default_graph instead.\n",
      "\n",
      "WARNING:tensorflow:From /home/ec2-user/anaconda3/envs/tensorflow_p36/lib/python3.6/site-packages/keras/backend/tensorflow_backend.py:517: The name tf.placeholder is deprecated. Please use tf.compat.v1.placeholder instead.\n",
      "\n",
      "WARNING:tensorflow:From /home/ec2-user/anaconda3/envs/tensorflow_p36/lib/python3.6/site-packages/keras/backend/tensorflow_backend.py:4138: The name tf.random_uniform is deprecated. Please use tf.random.uniform instead.\n",
      "\n",
      "WARNING:tensorflow:From /home/ec2-user/anaconda3/envs/tensorflow_p36/lib/python3.6/site-packages/keras/optimizers.py:790: The name tf.train.Optimizer is deprecated. Please use tf.compat.v1.train.Optimizer instead.\n",
      "\n",
      "_________________________________________________________________\n",
      "Layer (type)                 Output Shape              Param #   \n",
      "=================================================================\n",
      "input_1 (InputLayer)         (None, 64)                0         \n",
      "_________________________________________________________________\n",
      "dense_1 (Dense)              (None, 12)                780       \n",
      "_________________________________________________________________\n",
      "dense_2 (Dense)              (None, 64)                832       \n",
      "=================================================================\n",
      "Total params: 1,612\n",
      "Trainable params: 1,612\n",
      "Non-trainable params: 0\n",
      "_________________________________________________________________\n"
     ]
    }
   ],
   "source": [
    "########### Basic Autoencoder ##########\n",
    "input_dim = x_train.shape[1]\n",
    "input_layer = Input(shape=(input_dim, ))\n",
    "\n",
    "encoding_dim = 12\n",
    "#learning_rate = 1e-7\n",
    "\n",
    "encoded = Dense(encoding_dim, activation='relu')(input_layer)\n",
    "decoded = Dense(input_dim, activation='sigmoid')(encoded)\n",
    "\n",
    "# implenment an autoencoder, creat encoder and decoder\n",
    "\n",
    "autoencoder = Model(input_layer, decoded)\n",
    "\n",
    "encoder = Model(input_layer, encoded)\n",
    "encoded_input = Input(shape=(encoding_dim,))\n",
    "decoder_layer = autoencoder.layers[-1]\n",
    "decoder = Model(encoded_input, decoder_layer(encoded_input))\n",
    "                                             \n",
    "autoencoder.compile(optimizer='adam', loss='mean_squared_error')\n",
    "autoencoder.summary()"
   ]
  },
  {
   "cell_type": "code",
   "execution_count": 5,
   "metadata": {},
   "outputs": [
    {
     "name": "stdout",
     "output_type": "stream",
     "text": [
      "WARNING:tensorflow:From /home/ec2-user/anaconda3/envs/tensorflow_p36/lib/python3.6/site-packages/keras/backend/tensorflow_backend.py:986: The name tf.assign_add is deprecated. Please use tf.compat.v1.assign_add instead.\n",
      "\n",
      "WARNING:tensorflow:From /home/ec2-user/anaconda3/envs/tensorflow_p36/lib/python3.6/site-packages/keras/backend/tensorflow_backend.py:973: The name tf.assign is deprecated. Please use tf.compat.v1.assign instead.\n",
      "\n",
      "WARNING:tensorflow:From /home/ec2-user/anaconda3/envs/tensorflow_p36/lib/python3.6/site-packages/keras/backend/tensorflow_backend.py:2741: The name tf.Session is deprecated. Please use tf.compat.v1.Session instead.\n",
      "\n",
      "WARNING:tensorflow:From /home/ec2-user/anaconda3/envs/tensorflow_p36/lib/python3.6/site-packages/keras/backend/tensorflow_backend.py:174: The name tf.get_default_session is deprecated. Please use tf.compat.v1.get_default_session instead.\n",
      "\n",
      "WARNING:tensorflow:From /home/ec2-user/anaconda3/envs/tensorflow_p36/lib/python3.6/site-packages/keras/backend/tensorflow_backend.py:184: The name tf.ConfigProto is deprecated. Please use tf.compat.v1.ConfigProto instead.\n",
      "\n",
      "WARNING:tensorflow:From /home/ec2-user/anaconda3/envs/tensorflow_p36/lib/python3.6/site-packages/keras/backend/tensorflow_backend.py:190: The name tf.global_variables is deprecated. Please use tf.compat.v1.global_variables instead.\n",
      "\n",
      "WARNING:tensorflow:From /home/ec2-user/anaconda3/envs/tensorflow_p36/lib/python3.6/site-packages/keras/backend/tensorflow_backend.py:199: The name tf.is_variable_initialized is deprecated. Please use tf.compat.v1.is_variable_initialized instead.\n",
      "\n",
      "WARNING:tensorflow:From /home/ec2-user/anaconda3/envs/tensorflow_p36/lib/python3.6/site-packages/keras/backend/tensorflow_backend.py:206: The name tf.variables_initializer is deprecated. Please use tf.compat.v1.variables_initializer instead.\n",
      "\n"
     ]
    }
   ],
   "source": [
    "ae_train = autoencoder.fit(x_train, x_train,\n",
    "                epochs=200,\n",
    "                batch_size=128,\n",
    "                shuffle=False,\n",
    "                validation_data=(x_test, x_test),\n",
    "                verbose = 0\n",
    "                ).history"
   ]
  },
  {
   "cell_type": "code",
   "execution_count": 6,
   "metadata": {
    "scrolled": true
   },
   "outputs": [
    {
     "data": {
      "image/png": "[encoded data removed]",
      "text/plain": [
       "<Figure size 432x288 with 1 Axes>"
      ]
     },
     "metadata": {},
     "output_type": "display_data"
    }
   ],
   "source": [
    "# AE loss\n",
    "plt.plot(ae_train['loss'])\n",
    "plt.plot(ae_train['val_loss'])\n",
    "plt.title('AE model loss')\n",
    "plt.ylabel('loss')\n",
    "plt.xlabel('epoch')\n",
    "plt.legend(['Training', 'Validation'], loc='upper right')\n",
    "plt.show()"
   ]
  },
  {
   "cell_type": "code",
   "execution_count": 7,
   "metadata": {},
   "outputs": [
    {
     "data": {
      "text/plain": [
       "(410, 11)"
      ]
     },
     "execution_count": 7,
     "metadata": {},
     "output_type": "execute_result"
    }
   ],
   "source": [
    "# create encoded data\n",
    "encoded_data = encoder.predict(x_test)\n",
    "#decoded_data = decoder.predict(encoded_data)\n",
    "\n",
    "# transform to SOM input type\n",
    "encoded_som = pd.DataFrame(encoded_data)\n",
    "#decoded_som = pd.DataFrame(decoded_data)\n",
    "\n",
    "# get rid of columns with all zeros\n",
    "nonzero = list(map(lambda i: any(encoded_data[:,i] != 0), range(encoded_data.shape[1])))\n",
    "encoded_som_nonzero = pd.DataFrame(encoded_data[:,nonzero])\n",
    "encoded_som_nonzero.shape"
   ]
  },
  {
   "cell_type": "code",
   "execution_count": 8,
   "metadata": {},
   "outputs": [],
   "source": [
    "encoded_som_nonzero.to_csv(path_or_buf='output/dim064_AE_encoded.csv',index= False)"
   ]
  },
  {
   "cell_type": "markdown",
   "metadata": {},
   "source": [
    "# Sparse Autoencoder"
   ]
  },
  {
   "cell_type": "code",
   "execution_count": 9,
   "metadata": {},
   "outputs": [],
   "source": [
    "########### Sparse Autoencoder ##########\n",
    "input_dim = x_train.shape[1]\n",
    "input_layer = Input(shape=(input_dim, ))\n",
    "\n",
    "encoding_dim = 12\n",
    "#learning_rate = 1e-7\n",
    "\n",
    "encoded = Dense(encoding_dim, activation='relu', activity_regularizer=regularizers.l1(10e-7))(input_layer)\n",
    "\n",
    "decoded = Dense(input_dim, activation='sigmoid')(encoded)\n",
    "\n",
    "# implenment an autoencoder, creat encoder and decoder\n",
    "\n",
    "autoencoder = Model(input_layer, decoded)\n",
    "\n",
    "encoder = Model(input_layer, encoded)\n",
    "encoded_input = Input(shape=(encoding_dim,))\n",
    "decoder_layer = autoencoder.layers[-1]\n",
    "decoder = Model(encoded_input, decoder_layer(encoded_input))\n",
    "                                             \n",
    "autoencoder.compile(optimizer='adam', loss='mean_squared_error')"
   ]
  },
  {
   "cell_type": "code",
   "execution_count": 10,
   "metadata": {},
   "outputs": [
    {
     "name": "stdout",
     "output_type": "stream",
     "text": [
      "_________________________________________________________________\n",
      "Layer (type)                 Output Shape              Param #   \n",
      "=================================================================\n",
      "input_3 (InputLayer)         (None, 64)                0         \n",
      "_________________________________________________________________\n",
      "dense_3 (Dense)              (None, 12)                780       \n",
      "_________________________________________________________________\n",
      "dense_4 (Dense)              (None, 64)                832       \n",
      "=================================================================\n",
      "Total params: 1,612\n",
      "Trainable params: 1,612\n",
      "Non-trainable params: 0\n",
      "_________________________________________________________________\n"
     ]
    }
   ],
   "source": [
    "autoencoder.summary()"
   ]
  },
  {
   "cell_type": "code",
   "execution_count": 11,
   "metadata": {},
   "outputs": [],
   "source": [
    "\n",
    "\n",
    "ae_train = autoencoder.fit(x_train, x_train,\n",
    "                epochs=200,\n",
    "                batch_size=128,\n",
    "                shuffle=False,\n",
    "                validation_data=(x_test, x_test),\n",
    "                verbose = 0\n",
    "                ).history"
   ]
  },
  {
   "cell_type": "code",
   "execution_count": 12,
   "metadata": {},
   "outputs": [
    {
     "data": {
      "image/png": "[encoded data removed]",
      "text/plain": [
       "<Figure size 432x288 with 1 Axes>"
      ]
     },
     "metadata": {},
     "output_type": "display_data"
    }
   ],
   "source": [
    "# SAE loss\n",
    "plt.plot(ae_train['loss'])\n",
    "plt.plot(ae_train['val_loss'])\n",
    "plt.title('SAE model loss')\n",
    "plt.ylabel('loss')\n",
    "plt.xlabel('epoch')\n",
    "plt.legend(['Training', 'Validation'], loc='upper right')\n",
    "plt.show()"
   ]
  },
  {
   "cell_type": "code",
   "execution_count": 13,
   "metadata": {},
   "outputs": [],
   "source": [
    "# create encoded data\n",
    "encoded_data = encoder.predict(x_test)\n",
    "#decoded_data = decoder.predict(encoded_data)\n",
    "\n",
    "# transform to SOM input type\n",
    "encoded_som = pd.DataFrame(encoded_data)\n",
    "#decoded_som = pd.DataFrame(decoded_data)\n",
    "\n",
    "# get rid of columns with all zeros\n",
    "nonzero = list(map(lambda i: any(encoded_data[:,i] != 0), range(encoded_data.shape[1])))\n",
    "encoded_som_nonzero = pd.DataFrame(encoded_data[:,nonzero])\n",
    "encoded_som_nonzero.to_csv(path_or_buf='output/dim064_SAE_encoded.csv',index= False)"
   ]
  },
  {
   "cell_type": "markdown",
   "metadata": {},
   "source": [
    "# Contractive Autoencoder"
   ]
  },
  {
   "cell_type": "code",
   "execution_count": 14,
   "metadata": {},
   "outputs": [],
   "source": [
    "########### Contractive Autoencoder ##########\n",
    "input_dim = x_train.shape[1]\n",
    "input_layer = Input(shape=(input_dim, ))\n",
    "\n",
    "encoding_dim = 12\n",
    "#learning_rate = 1e-7\n",
    "\n",
    "encoded = Dense(encoding_dim, activation='relu', name = 'encoded')(input_layer)\n",
    "decoded = Dense(input_dim, activation='sigmoid')(encoded)\n",
    "\n",
    "# implenment an autoencoder, creat encoder and decoder\n",
    "\n",
    "autoencoder = Model(input_layer, decoded)\n",
    "\n",
    "encoder = Model(input_layer, encoded)\n",
    "encoded_input = Input(shape=(encoding_dim,))\n",
    "decoder_layer = autoencoder.layers[-1]\n",
    "decoder = Model(encoded_input, decoder_layer(encoded_input))\n",
    "\n",
    "lam = 10e-6\n",
    "\n",
    "def contractive_loss(y_pred, y_true):\n",
    "    \n",
    "        mse = K.mean(K.square(y_true - y_pred), axis=1)\n",
    "        W = K.variable(value=autoencoder.get_layer('encoded').get_weights()[0])\n",
    "        W = K.transpose(W)\n",
    "        h = autoencoder.get_layer('encoded').output\n",
    "        dh = h * (1 - h)\n",
    "        contractive = lam * K.sum(dh**2 * K.sum(W**2, axis=1), axis=1)\n",
    "\n",
    "        return mse + contractive\n",
    "    \n",
    "autoencoder.compile(optimizer='adam', loss= contractive_loss)"
   ]
  },
  {
   "cell_type": "code",
   "execution_count": 15,
   "metadata": {},
   "outputs": [
    {
     "name": "stdout",
     "output_type": "stream",
     "text": [
      "_________________________________________________________________\n",
      "Layer (type)                 Output Shape              Param #   \n",
      "=================================================================\n",
      "input_5 (InputLayer)         (None, 64)                0         \n",
      "_________________________________________________________________\n",
      "encoded (Dense)              (None, 12)                780       \n",
      "_________________________________________________________________\n",
      "dense_5 (Dense)              (None, 64)                832       \n",
      "=================================================================\n",
      "Total params: 1,612\n",
      "Trainable params: 1,612\n",
      "Non-trainable params: 0\n",
      "_________________________________________________________________\n"
     ]
    }
   ],
   "source": [
    "autoencoder.summary()"
   ]
  },
  {
   "cell_type": "code",
   "execution_count": 16,
   "metadata": {},
   "outputs": [
    {
     "name": "stdout",
     "output_type": "stream",
     "text": [
      "WARNING:tensorflow:From /home/ec2-user/anaconda3/envs/tensorflow_p36/lib/python3.6/site-packages/tensorflow_core/python/ops/math_grad.py:1375: where (from tensorflow.python.ops.array_ops) is deprecated and will be removed in a future version.\n",
      "Instructions for updating:\n",
      "Use tf.where in 2.0, which has the same broadcast rule as np.where\n"
     ]
    }
   ],
   "source": [
    "ae_train = autoencoder.fit(x_train, x_train,\n",
    "                epochs=200,\n",
    "                batch_size=128,\n",
    "                shuffle=True,\n",
    "                validation_data=(x_test, x_test),\n",
    "                verbose = 0\n",
    "                ).history"
   ]
  },
  {
   "cell_type": "code",
   "execution_count": 17,
   "metadata": {},
   "outputs": [
    {
     "data": {
      "image/png": "[encoded data removed]",
      "text/plain": [
       "<Figure size 432x288 with 1 Axes>"
      ]
     },
     "metadata": {},
     "output_type": "display_data"
    }
   ],
   "source": [
    "# CAE loss\n",
    "plt.plot(ae_train['loss'])\n",
    "plt.plot(ae_train['val_loss'])\n",
    "plt.title('CAE model loss')\n",
    "plt.ylabel('loss')\n",
    "plt.xlabel('epoch')\n",
    "plt.legend(['Training', 'Validation'], loc='upper right')\n",
    "plt.show()"
   ]
  },
  {
   "cell_type": "code",
   "execution_count": 18,
   "metadata": {},
   "outputs": [],
   "source": [
    "# create encoded data\n",
    "encoded_data = encoder.predict(x_test)\n",
    "#decoded_data = decoder.predict(encoded_data)\n",
    "\n",
    "# transform to SOM input type\n",
    "encoded_som = pd.DataFrame(encoded_data)\n",
    "#decoded_som = pd.DataFrame(decoded_data)"
   ]
  },
  {
   "cell_type": "code",
   "execution_count": 19,
   "metadata": {},
   "outputs": [],
   "source": [
    "nonzero = list(map(lambda i: any(encoded_data[:,i] != 0), range(encoded_data.shape[1])))\n",
    "encoded_som_nonzero = pd.DataFrame(encoded_data[:,nonzero])\n",
    "encoded_som_nonzero.to_csv(path_or_buf='output/dim064_CAE_encoded.csv',index= False)"
   ]
  },
  {
   "cell_type": "markdown",
   "metadata": {},
   "source": [
    "# Denoising Autoencoder"
   ]
  },
  {
   "cell_type": "code",
   "execution_count": 20,
   "metadata": {},
   "outputs": [],
   "source": [
    "############ Denoiding Autoencoder ###########\n",
    "\n",
    "# add noise\n",
    "noise_factor = 0.5\n",
    "x_train_noisy = x_train + noise_factor * np.random.normal(loc=0.0, scale=1.0, size=x_train.shape) \n",
    "x_test_noisy = x_test + noise_factor * np.random.normal(loc=0.0, scale=1.0, size=x_test.shape) \n",
    "\n",
    "x_train_noisy = np.clip(x_train_noisy, 0., 1.)\n",
    "x_test_noisy = np.clip(x_test_noisy, 0., 1.)\n",
    "\n",
    "input_dim = x_train.shape[1]\n",
    "input_layer = Input(shape=(input_dim, ))\n",
    "\n",
    "encoding_dim = 12\n",
    "#learning_rate = 1e-7\n",
    "\n",
    "encoded = Dense(encoding_dim, activation='relu')(input_layer)\n",
    "decoded = Dense(input_dim, activation='sigmoid')(encoded)\n",
    "\n",
    "# implenment an autoencoder, creat encoder and decoder\n",
    "\n",
    "autoencoder = Model(input_layer, decoded)\n",
    "\n",
    "encoder = Model(input_layer, encoded)\n",
    "encoded_input = Input(shape=(encoding_dim,))\n",
    "decoder_layer = autoencoder.layers[-1]\n",
    "decoder = Model(encoded_input, decoder_layer(encoded_input))\n",
    "                                             \n",
    "autoencoder.compile(optimizer='adam', loss='mean_squared_error')"
   ]
  },
  {
   "cell_type": "code",
   "execution_count": 21,
   "metadata": {},
   "outputs": [
    {
     "name": "stdout",
     "output_type": "stream",
     "text": [
      "_________________________________________________________________\n",
      "Layer (type)                 Output Shape              Param #   \n",
      "=================================================================\n",
      "input_7 (InputLayer)         (None, 64)                0         \n",
      "_________________________________________________________________\n",
      "dense_6 (Dense)              (None, 12)                780       \n",
      "_________________________________________________________________\n",
      "dense_7 (Dense)              (None, 64)                832       \n",
      "=================================================================\n",
      "Total params: 1,612\n",
      "Trainable params: 1,612\n",
      "Non-trainable params: 0\n",
      "_________________________________________________________________\n"
     ]
    }
   ],
   "source": [
    "autoencoder.summary()"
   ]
  },
  {
   "cell_type": "code",
   "execution_count": 22,
   "metadata": {},
   "outputs": [],
   "source": [
    "ae_train = autoencoder.fit(x_train_noisy, x_train,\n",
    "                epochs=200,\n",
    "                batch_size=128,\n",
    "                shuffle=False,\n",
    "                validation_data=(x_test_noisy, x_test),\n",
    "                verbose = 0\n",
    "                ).history"
   ]
  },
  {
   "cell_type": "code",
   "execution_count": 23,
   "metadata": {},
   "outputs": [
    {
     "data": {
      "image/png": "[encoded data removed]",
      "text/plain": [
       "<Figure size 432x288 with 1 Axes>"
      ]
     },
     "metadata": {},
     "output_type": "display_data"
    }
   ],
   "source": [
    "# DAE loss\n",
    "plt.plot(ae_train['loss'])\n",
    "plt.plot(ae_train['val_loss'])\n",
    "plt.title('DAE model loss')\n",
    "plt.ylabel('loss')\n",
    "plt.xlabel('epoch')\n",
    "plt.legend(['Training', 'Validation'], loc='upper right')\n",
    "plt.show()"
   ]
  },
  {
   "cell_type": "code",
   "execution_count": 24,
   "metadata": {},
   "outputs": [],
   "source": [
    "# create encoded data\n",
    "encoded_data = encoder.predict(x_test)\n",
    "#decoded_data = decoder.predict(encoded_data)\n",
    "\n",
    "# transform to SOM input type\n",
    "encoded_som = pd.DataFrame(encoded_data)\n",
    "#decoded_som = pd.DataFrame(decoded_data)\n",
    "\n",
    "nonzero = list(map(lambda i: any(encoded_data[:,i] != 0), range(encoded_data.shape[1])))\n",
    "encoded_som_nonzero = pd.DataFrame(encoded_data[:,nonzero])\n",
    "encoded_som_nonzero.to_csv(path_or_buf='output/dim064_DAE_encoded.csv',index= False)"
   ]
  },
  {
   "cell_type": "markdown",
   "metadata": {},
   "source": [
    "# Convolutional Autoencoder"
   ]
  },
  {
   "cell_type": "code",
   "execution_count": 25,
   "metadata": {},
   "outputs": [],
   "source": [
    "# input_dim = x_train.shape[1]\n",
    "\n",
    "# # tranform the input format, add a dimension\n",
    "# x_train_con = x_train.as_matrix()\n",
    "# x_train_con = np.reshape(x_train_con, (-1, input_dim, 1))\n",
    "# x_text_con = x_test.as_matrix()\n",
    "# x_text_con = np.reshape(x_text_con, (-1, input_dim, 1))\n",
    "\n",
    "# input_layer = Input(shape=(input_dim,1))\n",
    "\n",
    "# x = Conv1D(32, 3, activation='relu', padding='same')(input_layer)\n",
    "# x = MaxPooling1D(4, padding='same')(x)\n",
    "# x = Conv1D(16, 3, activation='relu', padding='same')(x)\n",
    "# x = MaxPooling1D(4, padding='same')(x)\n",
    "# x = Conv1D(4, 3, activation='relu', padding='same')(x)\n",
    "# encoded = MaxPooling1D(2, padding='same')(x)\n",
    "\n",
    "\n",
    "# x = Conv1D(4, 3, activation='relu', padding='same')(encoded)\n",
    "# x = UpSampling1D(2)(x)\n",
    "# x = Conv1D(16, 3, activation='relu', padding='same')(x)\n",
    "# x = UpSampling1D(4)(x)\n",
    "# x = Conv1D(32, 3, activation='relu', padding='same')(x)\n",
    "# x = UpSampling1D(4)(x)\n",
    "# decoded = Conv1D(1, 1, activation='sigmoid')(x)\n",
    "\n",
    "# autoencoder = Model(input_layer, decoded)\n",
    "# encoder = Model(input_layer, encoded)\n",
    "# autoencoder.compile(optimizer='adam', loss='mean_squared_error')"
   ]
  },
  {
   "cell_type": "code",
   "execution_count": 26,
   "metadata": {},
   "outputs": [],
   "source": [
    "# autoencoder.summary()"
   ]
  },
  {
   "cell_type": "code",
   "execution_count": 27,
   "metadata": {},
   "outputs": [],
   "source": [
    "# ae_train = autoencoder.fit(x_train_con, x_train_con,\n",
    "#                 epochs=200,\n",
    "#                 batch_size=128,\n",
    "#                 shuffle=True,\n",
    "#                 validation_data=(x_text_con, x_text_con),\n",
    "#                 verbose = 0,\n",
    "#                 callbacks=[TensorBoard(log_dir='/tmp/autoencoder')]).history"
   ]
  },
  {
   "cell_type": "code",
   "execution_count": 28,
   "metadata": {},
   "outputs": [],
   "source": [
    "# # Conv_AE loss\n",
    "# plt.plot(ae_train['loss'])\n",
    "# plt.plot(ae_train['val_loss'])\n",
    "# plt.title('Conv_AE model loss')\n",
    "# plt.ylabel('loss')\n",
    "# plt.xlabel('epoch')\n",
    "# plt.legend(['Training', 'Validation'], loc='upper right')\n",
    "# plt.show()"
   ]
  },
  {
   "cell_type": "code",
   "execution_count": null,
   "metadata": {},
   "outputs": [],
   "source": []
  },
  {
   "cell_type": "code",
   "execution_count": 29,
   "metadata": {},
   "outputs": [
    {
     "name": "stdout",
     "output_type": "stream",
     "text": [
      "WARNING:tensorflow:From /home/ec2-user/anaconda3/envs/tensorflow_p36/lib/python3.6/site-packages/keras/backend/tensorflow_backend.py:3976: The name tf.nn.max_pool is deprecated. Please use tf.nn.max_pool2d instead.\n",
      "\n"
     ]
    },
    {
     "name": "stderr",
     "output_type": "stream",
     "text": [
      "/home/ec2-user/anaconda3/envs/tensorflow_p36/lib/python3.6/site-packages/ipykernel/__main__.py:6: FutureWarning: Method .as_matrix will be removed in a future version. Use .values instead.\n",
      "/home/ec2-user/anaconda3/envs/tensorflow_p36/lib/python3.6/site-packages/ipykernel/__main__.py:8: FutureWarning: Method .as_matrix will be removed in a future version. Use .values instead.\n"
     ]
    }
   ],
   "source": [
    "############# add one conv1D layer, change encoding dimension to 12 (4*3) ~Boren ###############\n",
    "\n",
    "input_dim = x_train.shape[1]\n",
    "\n",
    "# tranform the input format, add a dimension\n",
    "x_train_con = x_train.as_matrix()\n",
    "x_train_con = np.reshape(x_train_con, (-1, input_dim, 1))\n",
    "x_text_con = x_test.as_matrix()\n",
    "x_text_con = np.reshape(x_text_con, (-1, input_dim, 1))\n",
    "\n",
    "input_layer = Input(shape=(input_dim,1))\n",
    "\n",
    "x = Conv1D(32, 3, activation='relu', padding='same')(input_layer)\n",
    "x = MaxPooling1D(2, padding='same')(x)\n",
    "x = Conv1D(16, 3, activation='relu', padding='same')(x)\n",
    "x = MaxPooling1D(2, padding='same')(x)\n",
    "x = Conv1D(8, 3, activation='relu', padding='same')(x)\n",
    "x = MaxPooling1D(2, padding='same')(x)\n",
    "x = Conv1D(3, 3, activation='relu', padding='same')(x) \n",
    "encoded = MaxPooling1D(2, padding='same')(x)\n",
    "\n",
    "\n",
    "x = Conv1D(3, 3, activation='relu', padding='same')(encoded)\n",
    "x = UpSampling1D(2)(x)\n",
    "x = Conv1D(8, 3, activation='relu', padding='same')(x)\n",
    "x = UpSampling1D(2)(x)\n",
    "x = Conv1D(16, 3, activation='relu', padding='same')(x)\n",
    "x = UpSampling1D(2)(x)\n",
    "x = Conv1D(32, 3, activation='relu', padding='same')(x)\n",
    "x = UpSampling1D(2)(x)\n",
    "decoded = Conv1D(1, 1, activation='sigmoid')(x)\n",
    "\n",
    "\n",
    "autoencoder = Model(input_layer, decoded)\n",
    "encoder = Model(input_layer, encoded)\n",
    "autoencoder.compile(optimizer='adam', loss='mean_squared_error')\n"
   ]
  },
  {
   "cell_type": "code",
   "execution_count": 30,
   "metadata": {},
   "outputs": [
    {
     "name": "stdout",
     "output_type": "stream",
     "text": [
      "_________________________________________________________________\n",
      "Layer (type)                 Output Shape              Param #   \n",
      "=================================================================\n",
      "input_9 (InputLayer)         (None, 64, 1)             0         \n",
      "_________________________________________________________________\n",
      "conv1d_1 (Conv1D)            (None, 64, 32)            128       \n",
      "_________________________________________________________________\n",
      "max_pooling1d_1 (MaxPooling1 (None, 32, 32)            0         \n",
      "_________________________________________________________________\n",
      "conv1d_2 (Conv1D)            (None, 32, 16)            1552      \n",
      "_________________________________________________________________\n",
      "max_pooling1d_2 (MaxPooling1 (None, 16, 16)            0         \n",
      "_________________________________________________________________\n",
      "conv1d_3 (Conv1D)            (None, 16, 8)             392       \n",
      "_________________________________________________________________\n",
      "max_pooling1d_3 (MaxPooling1 (None, 8, 8)              0         \n",
      "_________________________________________________________________\n",
      "conv1d_4 (Conv1D)            (None, 8, 3)              75        \n",
      "_________________________________________________________________\n",
      "max_pooling1d_4 (MaxPooling1 (None, 4, 3)              0         \n",
      "_________________________________________________________________\n",
      "conv1d_5 (Conv1D)            (None, 4, 3)              30        \n",
      "_________________________________________________________________\n",
      "up_sampling1d_1 (UpSampling1 (None, 8, 3)              0         \n",
      "_________________________________________________________________\n",
      "conv1d_6 (Conv1D)            (None, 8, 8)              80        \n",
      "_________________________________________________________________\n",
      "up_sampling1d_2 (UpSampling1 (None, 16, 8)             0         \n",
      "_________________________________________________________________\n",
      "conv1d_7 (Conv1D)            (None, 16, 16)            400       \n",
      "_________________________________________________________________\n",
      "up_sampling1d_3 (UpSampling1 (None, 32, 16)            0         \n",
      "_________________________________________________________________\n",
      "conv1d_8 (Conv1D)            (None, 32, 32)            1568      \n",
      "_________________________________________________________________\n",
      "up_sampling1d_4 (UpSampling1 (None, 64, 32)            0         \n",
      "_________________________________________________________________\n",
      "conv1d_9 (Conv1D)            (None, 64, 1)             33        \n",
      "=================================================================\n",
      "Total params: 4,258\n",
      "Trainable params: 4,258\n",
      "Non-trainable params: 0\n",
      "_________________________________________________________________\n"
     ]
    }
   ],
   "source": [
    "autoencoder.summary()"
   ]
  },
  {
   "cell_type": "code",
   "execution_count": 31,
   "metadata": {},
   "outputs": [
    {
     "name": "stdout",
     "output_type": "stream",
     "text": [
      "Train on 614 samples, validate on 410 samples\n",
      "WARNING:tensorflow:From /home/ec2-user/anaconda3/envs/tensorflow_p36/lib/python3.6/site-packages/keras/callbacks.py:850: The name tf.summary.merge_all is deprecated. Please use tf.compat.v1.summary.merge_all instead.\n",
      "\n",
      "WARNING:tensorflow:From /home/ec2-user/anaconda3/envs/tensorflow_p36/lib/python3.6/site-packages/keras/callbacks.py:853: The name tf.summary.FileWriter is deprecated. Please use tf.compat.v1.summary.FileWriter instead.\n",
      "\n",
      "Epoch 1/200\n",
      "614/614 [==============================] - 3s 5ms/step - loss: 0.0578 - val_loss: 0.0574\n",
      "WARNING:tensorflow:From /home/ec2-user/anaconda3/envs/tensorflow_p36/lib/python3.6/site-packages/keras/callbacks.py:995: The name tf.Summary is deprecated. Please use tf.compat.v1.Summary instead.\n",
      "\n",
      "Epoch 2/200\n",
      "614/614 [==============================] - 0s 328us/step - loss: 0.0567 - val_loss: 0.0564\n",
      "Epoch 3/200\n",
      "614/614 [==============================] - 0s 323us/step - loss: 0.0557 - val_loss: 0.0557\n",
      "Epoch 4/200\n",
      "614/614 [==============================] - 0s 284us/step - loss: 0.0552 - val_loss: 0.0557\n",
      "Epoch 5/200\n",
      "614/614 [==============================] - 0s 301us/step - loss: 0.0552 - val_loss: 0.0556\n",
      "Epoch 6/200\n",
      "614/614 [==============================] - 0s 296us/step - loss: 0.0550 - val_loss: 0.0553\n",
      "Epoch 7/200\n",
      "614/614 [==============================] - 0s 307us/step - loss: 0.0548 - val_loss: 0.0552\n",
      "Epoch 8/200\n",
      "614/614 [==============================] - 0s 311us/step - loss: 0.0547 - val_loss: 0.0550\n",
      "Epoch 9/200\n",
      "614/614 [==============================] - 0s 301us/step - loss: 0.0544 - val_loss: 0.0548\n",
      "Epoch 10/200\n",
      "614/614 [==============================] - 0s 304us/step - loss: 0.0541 - val_loss: 0.0545\n",
      "Epoch 11/200\n",
      "614/614 [==============================] - 0s 284us/step - loss: 0.0538 - val_loss: 0.0542\n",
      "Epoch 12/200\n",
      "614/614 [==============================] - 0s 294us/step - loss: 0.0536 - val_loss: 0.0540\n",
      "Epoch 13/200\n",
      "614/614 [==============================] - 0s 313us/step - loss: 0.0534 - val_loss: 0.0538\n",
      "Epoch 14/200\n",
      "614/614 [==============================] - 0s 299us/step - loss: 0.0532 - val_loss: 0.0536\n",
      "Epoch 15/200\n",
      "614/614 [==============================] - 0s 292us/step - loss: 0.0530 - val_loss: 0.0535\n",
      "Epoch 16/200\n",
      "614/614 [==============================] - 0s 314us/step - loss: 0.0528 - val_loss: 0.0533\n",
      "Epoch 17/200\n",
      "614/614 [==============================] - 0s 302us/step - loss: 0.0526 - val_loss: 0.0531\n",
      "Epoch 18/200\n",
      "614/614 [==============================] - 0s 312us/step - loss: 0.0525 - val_loss: 0.0529\n",
      "Epoch 19/200\n",
      "614/614 [==============================] - 0s 297us/step - loss: 0.0523 - val_loss: 0.0528\n",
      "Epoch 20/200\n",
      "614/614 [==============================] - 0s 293us/step - loss: 0.0521 - val_loss: 0.0526\n",
      "Epoch 21/200\n",
      "614/614 [==============================] - 0s 282us/step - loss: 0.0519 - val_loss: 0.0524\n",
      "Epoch 22/200\n",
      "614/614 [==============================] - 0s 297us/step - loss: 0.0517 - val_loss: 0.0522\n",
      "Epoch 23/200\n",
      "614/614 [==============================] - 0s 314us/step - loss: 0.0515 - val_loss: 0.0520\n",
      "Epoch 24/200\n",
      "614/614 [==============================] - 0s 297us/step - loss: 0.0513 - val_loss: 0.0518\n",
      "Epoch 25/200\n",
      "614/614 [==============================] - 0s 297us/step - loss: 0.0512 - val_loss: 0.0517\n",
      "Epoch 26/200\n",
      "614/614 [==============================] - 0s 290us/step - loss: 0.0510 - val_loss: 0.0515\n",
      "Epoch 27/200\n",
      "614/614 [==============================] - 0s 300us/step - loss: 0.0508 - val_loss: 0.0513\n",
      "Epoch 28/200\n",
      "614/614 [==============================] - 0s 297us/step - loss: 0.0506 - val_loss: 0.0512\n",
      "Epoch 29/200\n",
      "614/614 [==============================] - 0s 298us/step - loss: 0.0504 - val_loss: 0.0510\n",
      "Epoch 30/200\n",
      "614/614 [==============================] - 0s 312us/step - loss: 0.0502 - val_loss: 0.0508\n",
      "Epoch 31/200\n",
      "614/614 [==============================] - 0s 286us/step - loss: 0.0500 - val_loss: 0.0506\n",
      "Epoch 32/200\n",
      "614/614 [==============================] - 0s 308us/step - loss: 0.0498 - val_loss: 0.0503\n",
      "Epoch 33/200\n",
      "614/614 [==============================] - 0s 310us/step - loss: 0.0496 - val_loss: 0.0501\n",
      "Epoch 34/200\n",
      "614/614 [==============================] - 0s 298us/step - loss: 0.0494 - val_loss: 0.0499\n",
      "Epoch 35/200\n",
      "614/614 [==============================] - 0s 299us/step - loss: 0.0491 - val_loss: 0.0496\n",
      "Epoch 36/200\n",
      "614/614 [==============================] - 0s 297us/step - loss: 0.0489 - val_loss: 0.0494\n",
      "Epoch 37/200\n",
      "614/614 [==============================] - 0s 308us/step - loss: 0.0486 - val_loss: 0.0491\n",
      "Epoch 38/200\n",
      "614/614 [==============================] - 0s 292us/step - loss: 0.0483 - val_loss: 0.0488\n",
      "Epoch 39/200\n",
      "614/614 [==============================] - 0s 309us/step - loss: 0.0481 - val_loss: 0.0486\n",
      "Epoch 40/200\n",
      "614/614 [==============================] - 0s 308us/step - loss: 0.0478 - val_loss: 0.0483\n",
      "Epoch 41/200\n",
      "614/614 [==============================] - 0s 302us/step - loss: 0.0475 - val_loss: 0.0480\n",
      "Epoch 42/200\n",
      "614/614 [==============================] - 0s 307us/step - loss: 0.0472 - val_loss: 0.0478\n",
      "Epoch 43/200\n",
      "614/614 [==============================] - 0s 296us/step - loss: 0.0469 - val_loss: 0.0475\n",
      "Epoch 44/200\n",
      "614/614 [==============================] - 0s 292us/step - loss: 0.0467 - val_loss: 0.0472\n",
      "Epoch 45/200\n",
      "614/614 [==============================] - 0s 307us/step - loss: 0.0464 - val_loss: 0.0470\n",
      "Epoch 46/200\n",
      "614/614 [==============================] - 0s 288us/step - loss: 0.0461 - val_loss: 0.0467\n",
      "Epoch 47/200\n",
      "614/614 [==============================] - 0s 297us/step - loss: 0.0459 - val_loss: 0.0465\n",
      "Epoch 48/200\n",
      "614/614 [==============================] - 0s 292us/step - loss: 0.0456 - val_loss: 0.0462\n",
      "Epoch 49/200\n",
      "614/614 [==============================] - 0s 305us/step - loss: 0.0454 - val_loss: 0.0460\n",
      "Epoch 50/200\n",
      "614/614 [==============================] - 0s 301us/step - loss: 0.0451 - val_loss: 0.0458\n",
      "Epoch 51/200\n",
      "614/614 [==============================] - 0s 300us/step - loss: 0.0449 - val_loss: 0.0456\n",
      "Epoch 52/200\n",
      "614/614 [==============================] - 0s 303us/step - loss: 0.0447 - val_loss: 0.0453\n",
      "Epoch 53/200\n",
      "614/614 [==============================] - 0s 296us/step - loss: 0.0445 - val_loss: 0.0451\n",
      "Epoch 54/200\n",
      "614/614 [==============================] - 0s 295us/step - loss: 0.0442 - val_loss: 0.0449\n",
      "Epoch 55/200\n",
      "614/614 [==============================] - 0s 296us/step - loss: 0.0440 - val_loss: 0.0447\n",
      "Epoch 56/200\n",
      "614/614 [==============================] - 0s 303us/step - loss: 0.0438 - val_loss: 0.0445\n",
      "Epoch 57/200\n",
      "614/614 [==============================] - 0s 310us/step - loss: 0.0436 - val_loss: 0.0443\n",
      "Epoch 58/200\n",
      "614/614 [==============================] - 0s 299us/step - loss: 0.0433 - val_loss: 0.0440\n",
      "Epoch 59/200\n",
      "614/614 [==============================] - 0s 306us/step - loss: 0.0431 - val_loss: 0.0438\n",
      "Epoch 60/200\n",
      "614/614 [==============================] - 0s 304us/step - loss: 0.0429 - val_loss: 0.0436\n",
      "Epoch 61/200\n",
      "614/614 [==============================] - 0s 313us/step - loss: 0.0427 - val_loss: 0.0435\n",
      "Epoch 62/200\n",
      "614/614 [==============================] - 0s 297us/step - loss: 0.0426 - val_loss: 0.0432\n",
      "Epoch 63/200\n",
      "614/614 [==============================] - 0s 311us/step - loss: 0.0423 - val_loss: 0.0431\n",
      "Epoch 64/200\n",
      "614/614 [==============================] - 0s 298us/step - loss: 0.0421 - val_loss: 0.0429\n",
      "Epoch 65/200\n",
      "614/614 [==============================] - 0s 300us/step - loss: 0.0419 - val_loss: 0.0427\n",
      "Epoch 66/200\n",
      "614/614 [==============================] - 0s 304us/step - loss: 0.0418 - val_loss: 0.0425\n",
      "Epoch 67/200\n",
      "614/614 [==============================] - 0s 308us/step - loss: 0.0416 - val_loss: 0.0423\n",
      "Epoch 68/200\n",
      "614/614 [==============================] - 0s 309us/step - loss: 0.0414 - val_loss: 0.0421\n",
      "Epoch 69/200\n",
      "614/614 [==============================] - 0s 287us/step - loss: 0.0412 - val_loss: 0.0420\n",
      "Epoch 70/200\n",
      "614/614 [==============================] - 0s 296us/step - loss: 0.0410 - val_loss: 0.0418\n",
      "Epoch 71/200\n",
      "614/614 [==============================] - 0s 307us/step - loss: 0.0409 - val_loss: 0.0417\n",
      "Epoch 72/200\n",
      "614/614 [==============================] - 0s 299us/step - loss: 0.0407 - val_loss: 0.0415\n",
      "Epoch 73/200\n"
     ]
    },
    {
     "name": "stdout",
     "output_type": "stream",
     "text": [
      "614/614 [==============================] - 0s 306us/step - loss: 0.0406 - val_loss: 0.0413\n",
      "Epoch 74/200\n",
      "614/614 [==============================] - 0s 297us/step - loss: 0.0404 - val_loss: 0.0411\n",
      "Epoch 75/200\n",
      "614/614 [==============================] - 0s 296us/step - loss: 0.0402 - val_loss: 0.0410\n",
      "Epoch 76/200\n",
      "614/614 [==============================] - 0s 297us/step - loss: 0.0401 - val_loss: 0.0408\n",
      "Epoch 77/200\n",
      "614/614 [==============================] - 0s 301us/step - loss: 0.0399 - val_loss: 0.0407\n",
      "Epoch 78/200\n",
      "614/614 [==============================] - 0s 318us/step - loss: 0.0398 - val_loss: 0.0406\n",
      "Epoch 79/200\n",
      "614/614 [==============================] - 0s 307us/step - loss: 0.0396 - val_loss: 0.0404\n",
      "Epoch 80/200\n",
      "614/614 [==============================] - 0s 298us/step - loss: 0.0395 - val_loss: 0.0403\n",
      "Epoch 81/200\n",
      "614/614 [==============================] - 0s 284us/step - loss: 0.0393 - val_loss: 0.0401\n",
      "Epoch 82/200\n",
      "614/614 [==============================] - 0s 297us/step - loss: 0.0392 - val_loss: 0.0400\n",
      "Epoch 83/200\n",
      "614/614 [==============================] - 0s 308us/step - loss: 0.0391 - val_loss: 0.0398\n",
      "Epoch 84/200\n",
      "614/614 [==============================] - 0s 308us/step - loss: 0.0389 - val_loss: 0.0397\n",
      "Epoch 85/200\n",
      "614/614 [==============================] - 0s 296us/step - loss: 0.0388 - val_loss: 0.0396\n",
      "Epoch 86/200\n",
      "614/614 [==============================] - 0s 299us/step - loss: 0.0387 - val_loss: 0.0395\n",
      "Epoch 87/200\n",
      "614/614 [==============================] - 0s 297us/step - loss: 0.0386 - val_loss: 0.0393\n",
      "Epoch 88/200\n",
      "614/614 [==============================] - 0s 311us/step - loss: 0.0384 - val_loss: 0.0392\n",
      "Epoch 89/200\n",
      "614/614 [==============================] - 0s 295us/step - loss: 0.0383 - val_loss: 0.0391\n",
      "Epoch 90/200\n",
      "614/614 [==============================] - 0s 299us/step - loss: 0.0382 - val_loss: 0.0390\n",
      "Epoch 91/200\n",
      "614/614 [==============================] - 0s 301us/step - loss: 0.0381 - val_loss: 0.0389\n",
      "Epoch 92/200\n",
      "614/614 [==============================] - 0s 311us/step - loss: 0.0380 - val_loss: 0.0388\n",
      "Epoch 93/200\n",
      "614/614 [==============================] - 0s 312us/step - loss: 0.0379 - val_loss: 0.0386\n",
      "Epoch 94/200\n",
      "614/614 [==============================] - 0s 307us/step - loss: 0.0378 - val_loss: 0.0386\n",
      "Epoch 95/200\n",
      "614/614 [==============================] - 0s 304us/step - loss: 0.0377 - val_loss: 0.0385\n",
      "Epoch 96/200\n",
      "614/614 [==============================] - 0s 336us/step - loss: 0.0376 - val_loss: 0.0384\n",
      "Epoch 97/200\n",
      "614/614 [==============================] - 0s 307us/step - loss: 0.0375 - val_loss: 0.0383\n",
      "Epoch 98/200\n",
      "614/614 [==============================] - 0s 315us/step - loss: 0.0374 - val_loss: 0.0383\n",
      "Epoch 99/200\n",
      "614/614 [==============================] - 0s 314us/step - loss: 0.0374 - val_loss: 0.0382\n",
      "Epoch 100/200\n",
      "614/614 [==============================] - 0s 307us/step - loss: 0.0373 - val_loss: 0.0381\n",
      "Epoch 101/200\n",
      "614/614 [==============================] - 0s 298us/step - loss: 0.0372 - val_loss: 0.0379\n",
      "Epoch 102/200\n",
      "614/614 [==============================] - 0s 304us/step - loss: 0.0371 - val_loss: 0.0378\n",
      "Epoch 103/200\n",
      "614/614 [==============================] - 0s 299us/step - loss: 0.0370 - val_loss: 0.0378\n",
      "Epoch 104/200\n",
      "614/614 [==============================] - 0s 315us/step - loss: 0.0369 - val_loss: 0.0377\n",
      "Epoch 105/200\n",
      "614/614 [==============================] - 0s 304us/step - loss: 0.0368 - val_loss: 0.0377\n",
      "Epoch 106/200\n",
      "614/614 [==============================] - 0s 315us/step - loss: 0.0367 - val_loss: 0.0376\n",
      "Epoch 107/200\n",
      "614/614 [==============================] - 0s 311us/step - loss: 0.0367 - val_loss: 0.0375\n",
      "Epoch 108/200\n",
      "614/614 [==============================] - 0s 311us/step - loss: 0.0366 - val_loss: 0.0374\n",
      "Epoch 109/200\n",
      "614/614 [==============================] - 0s 298us/step - loss: 0.0365 - val_loss: 0.0374\n",
      "Epoch 110/200\n",
      "614/614 [==============================] - 0s 303us/step - loss: 0.0365 - val_loss: 0.0373\n",
      "Epoch 111/200\n",
      "614/614 [==============================] - 0s 313us/step - loss: 0.0364 - val_loss: 0.0372\n",
      "Epoch 112/200\n",
      "614/614 [==============================] - 0s 307us/step - loss: 0.0363 - val_loss: 0.0371\n",
      "Epoch 113/200\n",
      "614/614 [==============================] - 0s 305us/step - loss: 0.0363 - val_loss: 0.0371\n",
      "Epoch 114/200\n",
      "614/614 [==============================] - 0s 321us/step - loss: 0.0362 - val_loss: 0.0371\n",
      "Epoch 115/200\n",
      "614/614 [==============================] - 0s 303us/step - loss: 0.0361 - val_loss: 0.0371\n",
      "Epoch 116/200\n",
      "614/614 [==============================] - 0s 318us/step - loss: 0.0361 - val_loss: 0.0369\n",
      "Epoch 117/200\n",
      "614/614 [==============================] - 0s 302us/step - loss: 0.0360 - val_loss: 0.0368\n",
      "Epoch 118/200\n",
      "614/614 [==============================] - 0s 305us/step - loss: 0.0359 - val_loss: 0.0368\n",
      "Epoch 119/200\n",
      "614/614 [==============================] - 0s 310us/step - loss: 0.0359 - val_loss: 0.0367\n",
      "Epoch 120/200\n",
      "614/614 [==============================] - 0s 301us/step - loss: 0.0358 - val_loss: 0.0367\n",
      "Epoch 121/200\n",
      "614/614 [==============================] - 0s 309us/step - loss: 0.0358 - val_loss: 0.0366\n",
      "Epoch 122/200\n",
      "614/614 [==============================] - 0s 312us/step - loss: 0.0357 - val_loss: 0.0366\n",
      "Epoch 123/200\n",
      "614/614 [==============================] - 0s 318us/step - loss: 0.0357 - val_loss: 0.0365\n",
      "Epoch 124/200\n",
      "614/614 [==============================] - 0s 313us/step - loss: 0.0356 - val_loss: 0.0365\n",
      "Epoch 125/200\n",
      "614/614 [==============================] - 0s 313us/step - loss: 0.0356 - val_loss: 0.0364\n",
      "Epoch 126/200\n",
      "614/614 [==============================] - 0s 307us/step - loss: 0.0356 - val_loss: 0.0364\n",
      "Epoch 127/200\n",
      "614/614 [==============================] - 0s 305us/step - loss: 0.0355 - val_loss: 0.0363\n",
      "Epoch 128/200\n",
      "614/614 [==============================] - 0s 305us/step - loss: 0.0355 - val_loss: 0.0363\n",
      "Epoch 129/200\n",
      "614/614 [==============================] - 0s 298us/step - loss: 0.0354 - val_loss: 0.0363\n",
      "Epoch 130/200\n",
      "614/614 [==============================] - 0s 300us/step - loss: 0.0353 - val_loss: 0.0362\n",
      "Epoch 131/200\n",
      "614/614 [==============================] - 0s 298us/step - loss: 0.0353 - val_loss: 0.0361\n",
      "Epoch 132/200\n",
      "614/614 [==============================] - 0s 311us/step - loss: 0.0353 - val_loss: 0.0361\n",
      "Epoch 133/200\n",
      "614/614 [==============================] - 0s 310us/step - loss: 0.0352 - val_loss: 0.0361\n",
      "Epoch 134/200\n",
      "614/614 [==============================] - 0s 301us/step - loss: 0.0352 - val_loss: 0.0361\n",
      "Epoch 135/200\n",
      "614/614 [==============================] - 0s 313us/step - loss: 0.0351 - val_loss: 0.0360\n",
      "Epoch 136/200\n",
      "614/614 [==============================] - 0s 319us/step - loss: 0.0351 - val_loss: 0.0360\n",
      "Epoch 137/200\n",
      "614/614 [==============================] - 0s 364us/step - loss: 0.0351 - val_loss: 0.0359\n",
      "Epoch 138/200\n",
      "614/614 [==============================] - 0s 286us/step - loss: 0.0350 - val_loss: 0.0358\n",
      "Epoch 139/200\n",
      "614/614 [==============================] - 0s 306us/step - loss: 0.0349 - val_loss: 0.0358\n",
      "Epoch 140/200\n",
      "614/614 [==============================] - 0s 307us/step - loss: 0.0349 - val_loss: 0.0358\n",
      "Epoch 141/200\n",
      "614/614 [==============================] - 0s 305us/step - loss: 0.0348 - val_loss: 0.0357\n",
      "Epoch 142/200\n",
      "614/614 [==============================] - 0s 311us/step - loss: 0.0348 - val_loss: 0.0357\n",
      "Epoch 143/200\n",
      "614/614 [==============================] - 0s 312us/step - loss: 0.0348 - val_loss: 0.0357\n",
      "Epoch 144/200\n",
      "614/614 [==============================] - 0s 303us/step - loss: 0.0348 - val_loss: 0.0356\n",
      "Epoch 145/200\n",
      "614/614 [==============================] - 0s 301us/step - loss: 0.0348 - val_loss: 0.0356\n",
      "Epoch 146/200\n",
      "614/614 [==============================] - 0s 309us/step - loss: 0.0347 - val_loss: 0.0356\n",
      "Epoch 147/200\n",
      "614/614 [==============================] - 0s 314us/step - loss: 0.0347 - val_loss: 0.0355\n",
      "Epoch 148/200\n",
      "614/614 [==============================] - 0s 296us/step - loss: 0.0346 - val_loss: 0.0355\n",
      "Epoch 149/200\n",
      "614/614 [==============================] - 0s 306us/step - loss: 0.0346 - val_loss: 0.0355\n",
      "Epoch 150/200\n",
      "614/614 [==============================] - 0s 300us/step - loss: 0.0346 - val_loss: 0.0355\n",
      "Epoch 151/200\n"
     ]
    },
    {
     "name": "stdout",
     "output_type": "stream",
     "text": [
      "614/614 [==============================] - 0s 309us/step - loss: 0.0346 - val_loss: 0.0354\n",
      "Epoch 152/200\n",
      "614/614 [==============================] - 0s 303us/step - loss: 0.0345 - val_loss: 0.0354\n",
      "Epoch 153/200\n",
      "614/614 [==============================] - 0s 317us/step - loss: 0.0345 - val_loss: 0.0353\n",
      "Epoch 154/200\n",
      "614/614 [==============================] - 0s 314us/step - loss: 0.0344 - val_loss: 0.0353\n",
      "Epoch 155/200\n",
      "614/614 [==============================] - 0s 307us/step - loss: 0.0344 - val_loss: 0.0353\n",
      "Epoch 156/200\n",
      "614/614 [==============================] - 0s 303us/step - loss: 0.0344 - val_loss: 0.0352\n",
      "Epoch 157/200\n",
      "614/614 [==============================] - 0s 308us/step - loss: 0.0343 - val_loss: 0.0352\n",
      "Epoch 158/200\n",
      "614/614 [==============================] - 0s 303us/step - loss: 0.0343 - val_loss: 0.0352\n",
      "Epoch 159/200\n",
      "614/614 [==============================] - 0s 315us/step - loss: 0.0343 - val_loss: 0.0351\n",
      "Epoch 160/200\n",
      "614/614 [==============================] - 0s 307us/step - loss: 0.0342 - val_loss: 0.0351\n",
      "Epoch 161/200\n",
      "614/614 [==============================] - 0s 302us/step - loss: 0.0342 - val_loss: 0.0351\n",
      "Epoch 162/200\n",
      "614/614 [==============================] - 0s 312us/step - loss: 0.0342 - val_loss: 0.0350\n",
      "Epoch 163/200\n",
      "614/614 [==============================] - 0s 314us/step - loss: 0.0341 - val_loss: 0.0350\n",
      "Epoch 164/200\n",
      "614/614 [==============================] - 0s 312us/step - loss: 0.0341 - val_loss: 0.0350\n",
      "Epoch 165/200\n",
      "614/614 [==============================] - 0s 291us/step - loss: 0.0341 - val_loss: 0.0350\n",
      "Epoch 166/200\n",
      "614/614 [==============================] - 0s 297us/step - loss: 0.0341 - val_loss: 0.0349\n",
      "Epoch 167/200\n",
      "614/614 [==============================] - 0s 302us/step - loss: 0.0340 - val_loss: 0.0349\n",
      "Epoch 168/200\n",
      "614/614 [==============================] - 0s 310us/step - loss: 0.0340 - val_loss: 0.0349\n",
      "Epoch 169/200\n",
      "614/614 [==============================] - 0s 296us/step - loss: 0.0339 - val_loss: 0.0349\n",
      "Epoch 170/200\n",
      "614/614 [==============================] - 0s 299us/step - loss: 0.0339 - val_loss: 0.0348\n",
      "Epoch 171/200\n",
      "614/614 [==============================] - 0s 293us/step - loss: 0.0339 - val_loss: 0.0348\n",
      "Epoch 172/200\n",
      "614/614 [==============================] - 0s 302us/step - loss: 0.0339 - val_loss: 0.0348\n",
      "Epoch 173/200\n",
      "614/614 [==============================] - 0s 300us/step - loss: 0.0338 - val_loss: 0.0348\n",
      "Epoch 174/200\n",
      "614/614 [==============================] - 0s 309us/step - loss: 0.0338 - val_loss: 0.0347\n",
      "Epoch 175/200\n",
      "614/614 [==============================] - 0s 316us/step - loss: 0.0338 - val_loss: 0.0347\n",
      "Epoch 176/200\n",
      "614/614 [==============================] - 0s 313us/step - loss: 0.0337 - val_loss: 0.0346\n",
      "Epoch 177/200\n",
      "614/614 [==============================] - 0s 302us/step - loss: 0.0337 - val_loss: 0.0346\n",
      "Epoch 178/200\n",
      "614/614 [==============================] - 0s 304us/step - loss: 0.0337 - val_loss: 0.0346\n",
      "Epoch 179/200\n",
      "614/614 [==============================] - 0s 311us/step - loss: 0.0337 - val_loss: 0.0346\n",
      "Epoch 180/200\n",
      "614/614 [==============================] - 0s 305us/step - loss: 0.0337 - val_loss: 0.0345\n",
      "Epoch 181/200\n",
      "614/614 [==============================] - 0s 296us/step - loss: 0.0336 - val_loss: 0.0345\n",
      "Epoch 182/200\n",
      "614/614 [==============================] - 0s 308us/step - loss: 0.0336 - val_loss: 0.0345\n",
      "Epoch 183/200\n",
      "614/614 [==============================] - 0s 302us/step - loss: 0.0336 - val_loss: 0.0345\n",
      "Epoch 184/200\n",
      "614/614 [==============================] - 0s 312us/step - loss: 0.0335 - val_loss: 0.0345\n",
      "Epoch 185/200\n",
      "614/614 [==============================] - 0s 307us/step - loss: 0.0335 - val_loss: 0.0344\n",
      "Epoch 186/200\n",
      "614/614 [==============================] - 0s 300us/step - loss: 0.0335 - val_loss: 0.0344\n",
      "Epoch 187/200\n",
      "614/614 [==============================] - 0s 304us/step - loss: 0.0335 - val_loss: 0.0344\n",
      "Epoch 188/200\n",
      "614/614 [==============================] - 0s 309us/step - loss: 0.0334 - val_loss: 0.0343\n",
      "Epoch 189/200\n",
      "614/614 [==============================] - 0s 312us/step - loss: 0.0334 - val_loss: 0.0344\n",
      "Epoch 190/200\n",
      "614/614 [==============================] - 0s 312us/step - loss: 0.0334 - val_loss: 0.0343\n",
      "Epoch 191/200\n",
      "614/614 [==============================] - 0s 297us/step - loss: 0.0334 - val_loss: 0.0343\n",
      "Epoch 192/200\n",
      "614/614 [==============================] - 0s 310us/step - loss: 0.0334 - val_loss: 0.0343\n",
      "Epoch 193/200\n",
      "614/614 [==============================] - 0s 306us/step - loss: 0.0333 - val_loss: 0.0342\n",
      "Epoch 194/200\n",
      "614/614 [==============================] - 0s 296us/step - loss: 0.0333 - val_loss: 0.0342\n",
      "Epoch 195/200\n",
      "614/614 [==============================] - 0s 305us/step - loss: 0.0333 - val_loss: 0.0343\n",
      "Epoch 196/200\n",
      "614/614 [==============================] - 0s 301us/step - loss: 0.0333 - val_loss: 0.0342\n",
      "Epoch 197/200\n",
      "614/614 [==============================] - 0s 309us/step - loss: 0.0333 - val_loss: 0.0343\n",
      "Epoch 198/200\n",
      "614/614 [==============================] - 0s 297us/step - loss: 0.0333 - val_loss: 0.0343\n",
      "Epoch 199/200\n",
      "614/614 [==============================] - 0s 297us/step - loss: 0.0334 - val_loss: 0.0341\n",
      "Epoch 200/200\n",
      "614/614 [==============================] - 0s 300us/step - loss: 0.0333 - val_loss: 0.0341\n"
     ]
    }
   ],
   "source": [
    "ae_train = autoencoder.fit(x_train_con, x_train_con,\n",
    "                epochs=200,\n",
    "                batch_size=128,\n",
    "                shuffle=True,\n",
    "                validation_data=(x_text_con, x_text_con),\n",
    "                verbose=0\n",
    "                ).history"
   ]
  },
  {
   "cell_type": "code",
   "execution_count": 32,
   "metadata": {},
   "outputs": [
    {
     "data": {
      "image/png": "[encoded data removed]",
      "text/plain": [
       "<Figure size 432x288 with 1 Axes>"
      ]
     },
     "metadata": {},
     "output_type": "display_data"
    }
   ],
   "source": [
    "# Con_AE loss\n",
    "plt.plot(ae_train['loss'])\n",
    "plt.plot(ae_train['val_loss'])\n",
    "plt.title('Conv_AE model loss')\n",
    "plt.ylabel('loss')\n",
    "plt.xlabel('epoch')\n",
    "plt.legend(['Training', 'Validation'], loc='upper right')\n",
    "plt.show()"
   ]
  },
  {
   "cell_type": "code",
   "execution_count": 33,
   "metadata": {},
   "outputs": [],
   "source": [
    "encoded_data = encoder.predict(x_text_con)"
   ]
  },
  {
   "cell_type": "code",
   "execution_count": 42,
   "metadata": {},
   "outputs": [],
   "source": [
    "# create encoded data\n",
    "\n",
    "encoded_data = encoded_data.reshape(-1, 3*4)\n",
    "\n",
    "# transform to SOM input type\n",
    "encoded_som = pd.DataFrame(encoded_data)\n",
    "#decoded_som = pd.DataFrame(decoded_data)\n",
    "\n",
    "nonzero = list(map(lambda i: any(encoded_data[:,i] != 0), range(encoded_data.shape[1])))\n",
    "encoded_som_nonzero = pd.DataFrame(encoded_data[:,nonzero])\n",
    "encoded_som_nonzero.to_csv(path_or_buf='output/dim064_ConAE_encoded.csv',index= False)"
   ]
  },
  {
   "cell_type": "markdown",
   "metadata": {},
   "source": [
    "# Issue"
   ]
  },
  {
   "cell_type": "code",
   "execution_count": 43,
   "metadata": {},
   "outputs": [
    {
     "data": {
      "text/plain": [
       "(410, 12)"
      ]
     },
     "execution_count": 43,
     "metadata": {},
     "output_type": "execute_result"
    }
   ],
   "source": [
    "encoded_som.shape"
   ]
  },
  {
   "cell_type": "code",
   "execution_count": 44,
   "metadata": {},
   "outputs": [
    {
     "data": {
      "text/plain": [
       "(410, 64)"
      ]
     },
     "execution_count": 44,
     "metadata": {},
     "output_type": "execute_result"
    }
   ],
   "source": [
    "x_test.shape"
   ]
  },
  {
   "cell_type": "code",
   "execution_count": 45,
   "metadata": {},
   "outputs": [
    {
     "data": {
      "text/plain": [
       "(410, 8)"
      ]
     },
     "execution_count": 45,
     "metadata": {},
     "output_type": "execute_result"
    }
   ],
   "source": [
    "encoded_som_nonzero.shape"
   ]
  },
  {
   "cell_type": "code",
   "execution_count": null,
   "metadata": {},
   "outputs": [],
   "source": []
  }
 ],
 "metadata": {
  "kernelspec": {
   "display_name": "conda_tensorflow_p36",
   "language": "python",
   "name": "conda_tensorflow_p36"
  },
  "language_info": {
   "codemirror_mode": {
    "name": "ipython",
    "version": 3
   },
   "file_extension": ".py",
   "mimetype": "text/x-python",
   "name": "python",
   "nbconvert_exporter": "python",
   "pygments_lexer": "ipython3",
   "version": "3.6.6"
  }
 },
 "nbformat": 4,
 "nbformat_minor": 2
}
