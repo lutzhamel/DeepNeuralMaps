{
 "cells": [
  {
   "cell_type": "markdown",
   "metadata": {},
   "source": [
    "# Autoencoder for dim064 dataset"
   ]
  },
  {
   "cell_type": "code",
   "execution_count": 1,
   "metadata": {},
   "outputs": [
    {
     "name": "stderr",
     "output_type": "stream",
     "text": [
      "Using TensorFlow backend.\n"
     ]
    },
    {
     "name": "stdout",
     "output_type": "stream",
     "text": [
      "WARNING:tensorflow:From /home/ec2-user/anaconda3/envs/tensorflow_p36/lib/python3.6/site-packages/tensorflow_core/__init__.py:1467: The name tf.estimator.inputs is deprecated. Please use tf.compat.v1.estimator.inputs instead.\n",
      "\n"
     ]
    }
   ],
   "source": [
    "import pandas as pd\n",
    "import numpy as np\n",
    "from keras.models import Model,load_model\n",
    "from keras.callbacks import ModelCheckpoint, TensorBoard\n",
    "import matplotlib.pyplot as plt\n",
    "from keras import regularizers\n",
    "from keras.layers import Input, Dense, Conv1D, MaxPooling1D, UpSampling1D\n",
    "from keras.models import Model\n",
    "from keras import backend as K"
   ]
  },
  {
   "cell_type": "code",
   "execution_count": 2,
   "metadata": {},
   "outputs": [],
   "source": [
    "#read data\n",
    "x_train = pd.read_csv('dataset/dim064_train.csv')\n",
    "x_test = pd.read_csv('dataset/dim064_test.csv')\n",
    "#y_train = pd.read_csv('dataset/dim064_train_label.csv')\n",
    "#y_train = np.asarray(y_train)\n",
    "#y_test = pd.read_csv('dataset/dim064_test_label.csv')\n",
    "#y_test = np.asarray(y_test)"
   ]
  },
  {
   "cell_type": "code",
   "execution_count": 3,
   "metadata": {},
   "outputs": [],
   "source": [
    "# ## Normalization\n",
    "# #x_train.max().max()\n",
    "# x_train = x_train.astype('float32') / 157.\n",
    "# x_test = x_test.astype('float32') / 157."
   ]
  },
  {
   "cell_type": "markdown",
   "metadata": {},
   "source": [
    "# Basic Autoencoder"
   ]
  },
  {
   "cell_type": "code",
   "execution_count": 4,
   "metadata": {},
   "outputs": [
    {
     "name": "stdout",
     "output_type": "stream",
     "text": [
      "WARNING:tensorflow:From /home/ec2-user/anaconda3/envs/tensorflow_p36/lib/python3.6/site-packages/keras/backend/tensorflow_backend.py:74: The name tf.get_default_graph is deprecated. Please use tf.compat.v1.get_default_graph instead.\n",
      "\n",
      "WARNING:tensorflow:From /home/ec2-user/anaconda3/envs/tensorflow_p36/lib/python3.6/site-packages/keras/backend/tensorflow_backend.py:517: The name tf.placeholder is deprecated. Please use tf.compat.v1.placeholder instead.\n",
      "\n",
      "WARNING:tensorflow:From /home/ec2-user/anaconda3/envs/tensorflow_p36/lib/python3.6/site-packages/keras/backend/tensorflow_backend.py:4138: The name tf.random_uniform is deprecated. Please use tf.random.uniform instead.\n",
      "\n",
      "WARNING:tensorflow:From /home/ec2-user/anaconda3/envs/tensorflow_p36/lib/python3.6/site-packages/keras/optimizers.py:790: The name tf.train.Optimizer is deprecated. Please use tf.compat.v1.train.Optimizer instead.\n",
      "\n",
      "_________________________________________________________________\n",
      "Layer (type)                 Output Shape              Param #   \n",
      "=================================================================\n",
      "input_1 (InputLayer)         (None, 64)                0         \n",
      "_________________________________________________________________\n",
      "dense_1 (Dense)              (None, 12)                780       \n",
      "_________________________________________________________________\n",
      "dense_2 (Dense)              (None, 64)                832       \n",
      "=================================================================\n",
      "Total params: 1,612\n",
      "Trainable params: 1,612\n",
      "Non-trainable params: 0\n",
      "_________________________________________________________________\n"
     ]
    }
   ],
   "source": [
    "########### Basic Autoencoder ##########\n",
    "input_dim = x_train.shape[1]\n",
    "input_layer = Input(shape=(input_dim, ))\n",
    "\n",
    "encoding_dim = 12\n",
    "#learning_rate = 1e-7\n",
    "\n",
    "encoded = Dense(encoding_dim, activation='relu')(input_layer)\n",
    "decoded = Dense(input_dim, activation='sigmoid')(encoded)\n",
    "\n",
    "# implenment an autoencoder, creat encoder and decoder\n",
    "\n",
    "autoencoder = Model(input_layer, decoded)\n",
    "\n",
    "encoder = Model(input_layer, encoded)\n",
    "encoded_input = Input(shape=(encoding_dim,))\n",
    "decoder_layer = autoencoder.layers[-1]\n",
    "decoder = Model(encoded_input, decoder_layer(encoded_input))\n",
    "                                             \n",
    "autoencoder.compile(optimizer='adam', loss='mean_squared_error')\n",
    "autoencoder.summary()"
   ]
  },
  {
   "cell_type": "code",
   "execution_count": 5,
   "metadata": {},
   "outputs": [
    {
     "name": "stdout",
     "output_type": "stream",
     "text": [
      "WARNING:tensorflow:From /home/ec2-user/anaconda3/envs/tensorflow_p36/lib/python3.6/site-packages/keras/backend/tensorflow_backend.py:986: The name tf.assign_add is deprecated. Please use tf.compat.v1.assign_add instead.\n",
      "\n",
      "WARNING:tensorflow:From /home/ec2-user/anaconda3/envs/tensorflow_p36/lib/python3.6/site-packages/keras/backend/tensorflow_backend.py:973: The name tf.assign is deprecated. Please use tf.compat.v1.assign instead.\n",
      "\n",
      "WARNING:tensorflow:From /home/ec2-user/anaconda3/envs/tensorflow_p36/lib/python3.6/site-packages/keras/backend/tensorflow_backend.py:2741: The name tf.Session is deprecated. Please use tf.compat.v1.Session instead.\n",
      "\n",
      "WARNING:tensorflow:From /home/ec2-user/anaconda3/envs/tensorflow_p36/lib/python3.6/site-packages/keras/backend/tensorflow_backend.py:174: The name tf.get_default_session is deprecated. Please use tf.compat.v1.get_default_session instead.\n",
      "\n",
      "WARNING:tensorflow:From /home/ec2-user/anaconda3/envs/tensorflow_p36/lib/python3.6/site-packages/keras/backend/tensorflow_backend.py:184: The name tf.ConfigProto is deprecated. Please use tf.compat.v1.ConfigProto instead.\n",
      "\n",
      "WARNING:tensorflow:From /home/ec2-user/anaconda3/envs/tensorflow_p36/lib/python3.6/site-packages/keras/backend/tensorflow_backend.py:190: The name tf.global_variables is deprecated. Please use tf.compat.v1.global_variables instead.\n",
      "\n",
      "WARNING:tensorflow:From /home/ec2-user/anaconda3/envs/tensorflow_p36/lib/python3.6/site-packages/keras/backend/tensorflow_backend.py:199: The name tf.is_variable_initialized is deprecated. Please use tf.compat.v1.is_variable_initialized instead.\n",
      "\n",
      "WARNING:tensorflow:From /home/ec2-user/anaconda3/envs/tensorflow_p36/lib/python3.6/site-packages/keras/backend/tensorflow_backend.py:206: The name tf.variables_initializer is deprecated. Please use tf.compat.v1.variables_initializer instead.\n",
      "\n"
     ]
    }
   ],
   "source": [
    "ae_train = autoencoder.fit(x_train, x_train,\n",
    "                epochs=200,\n",
    "                batch_size=128,\n",
    "                shuffle=False,\n",
    "                validation_data=(x_test, x_test),\n",
    "                verbose = 0\n",
    "                ).history"
   ]
  },
  {
   "cell_type": "code",
   "execution_count": 6,
   "metadata": {
    "scrolled": true
   },
   "outputs": [
    {
     "data": {
      "image/png": "[encoded data removed]",
      "text/plain": [
       "<Figure size 432x288 with 1 Axes>"
      ]
     },
     "metadata": {},
     "output_type": "display_data"
    }
   ],
   "source": [
    "# AE loss\n",
    "plt.plot(ae_train['loss'])\n",
    "plt.plot(ae_train['val_loss'])\n",
    "plt.title('AE model loss')\n",
    "plt.ylabel('loss')\n",
    "plt.xlabel('epoch')\n",
    "plt.legend(['Training', 'Validation'], loc='upper right')\n",
    "plt.show()"
   ]
  },
  {
   "cell_type": "code",
   "execution_count": 7,
   "metadata": {},
   "outputs": [],
   "source": [
    "# create encoded data\n",
    "encoded_data = encoder.predict(x_test)\n",
    "#decoded_data = decoder.predict(encoded_data)\n",
    "\n",
    "# transform to SOM input type\n",
    "encoded_som = pd.DataFrame(encoded_data)\n",
    "#decoded_som = pd.DataFrame(decoded_data)\n",
    "\n",
    "# get rid of columns with all zeros\n",
    "nonzero = list(map(lambda i: any(encoded_data[:,i] != 0), range(encoded_data.shape[1])))\n",
    "encoded_som_nonzero = pd.DataFrame(encoded_data[:,nonzero])\n",
    "encoded_som_nonzero.to_csv(path_or_buf='output/dim064_AE_encoded.csv',index= False)"
   ]
  },
  {
   "cell_type": "markdown",
   "metadata": {},
   "source": [
    "# Sparse Autoencoder"
   ]
  },
  {
   "cell_type": "code",
   "execution_count": 8,
   "metadata": {},
   "outputs": [],
   "source": [
    "########### Sparse Autoencoder ##########\n",
    "input_dim = x_train.shape[1]\n",
    "input_layer = Input(shape=(input_dim, ))\n",
    "\n",
    "encoding_dim = 12\n",
    "#learning_rate = 1e-7\n",
    "\n",
    "encoded = Dense(encoding_dim, activation='relu', activity_regularizer=regularizers.l1(10e-7))(input_layer)\n",
    "\n",
    "decoded = Dense(input_dim, activation='sigmoid')(encoded)\n",
    "\n",
    "# implenment an autoencoder, creat encoder and decoder\n",
    "\n",
    "autoencoder = Model(input_layer, decoded)\n",
    "\n",
    "encoder = Model(input_layer, encoded)\n",
    "encoded_input = Input(shape=(encoding_dim,))\n",
    "decoder_layer = autoencoder.layers[-1]\n",
    "decoder = Model(encoded_input, decoder_layer(encoded_input))\n",
    "                                             \n",
    "autoencoder.compile(optimizer='adam', loss='mean_squared_error')"
   ]
  },
  {
   "cell_type": "code",
   "execution_count": 9,
   "metadata": {},
   "outputs": [
    {
     "name": "stdout",
     "output_type": "stream",
     "text": [
      "_________________________________________________________________\n",
      "Layer (type)                 Output Shape              Param #   \n",
      "=================================================================\n",
      "input_3 (InputLayer)         (None, 64)                0         \n",
      "_________________________________________________________________\n",
      "dense_3 (Dense)              (None, 12)                780       \n",
      "_________________________________________________________________\n",
      "dense_4 (Dense)              (None, 64)                832       \n",
      "=================================================================\n",
      "Total params: 1,612\n",
      "Trainable params: 1,612\n",
      "Non-trainable params: 0\n",
      "_________________________________________________________________\n"
     ]
    }
   ],
   "source": [
    "autoencoder.summary()"
   ]
  },
  {
   "cell_type": "code",
   "execution_count": 10,
   "metadata": {},
   "outputs": [],
   "source": [
    "\n",
    "\n",
    "ae_train = autoencoder.fit(x_train, x_train,\n",
    "                epochs=200,\n",
    "                batch_size=128,\n",
    "                shuffle=False,\n",
    "                validation_data=(x_test, x_test),\n",
    "                verbose = 0\n",
    "                ).history"
   ]
  },
  {
   "cell_type": "code",
   "execution_count": 11,
   "metadata": {},
   "outputs": [
    {
     "data": {
      "image/png": "[encoded data removed]",
      "text/plain": [
       "<Figure size 432x288 with 1 Axes>"
      ]
     },
     "metadata": {},
     "output_type": "display_data"
    }
   ],
   "source": [
    "# SAE loss\n",
    "plt.plot(ae_train['loss'])\n",
    "plt.plot(ae_train['val_loss'])\n",
    "plt.title('SAE model loss')\n",
    "plt.ylabel('loss')\n",
    "plt.xlabel('epoch')\n",
    "plt.legend(['Training', 'Validation'], loc='upper right')\n",
    "plt.show()"
   ]
  },
  {
   "cell_type": "code",
   "execution_count": 12,
   "metadata": {},
   "outputs": [],
   "source": [
    "# create encoded data\n",
    "encoded_data = encoder.predict(x_test)\n",
    "#decoded_data = decoder.predict(encoded_data)\n",
    "\n",
    "# transform to SOM input type\n",
    "encoded_som = pd.DataFrame(encoded_data)\n",
    "#decoded_som = pd.DataFrame(decoded_data)\n",
    "\n",
    "# get rid of columns with all zeros\n",
    "nonzero = list(map(lambda i: any(encoded_data[:,i] != 0), range(encoded_data.shape[1])))\n",
    "encoded_som_nonzero = pd.DataFrame(encoded_data[:,nonzero])\n",
    "encoded_som_nonzero.to_csv(path_or_buf='output/dim064_SAE_encoded.csv',index= False)"
   ]
  },
  {
   "cell_type": "markdown",
   "metadata": {},
   "source": [
    "# Contractive Autoencoder"
   ]
  },
  {
   "cell_type": "code",
   "execution_count": 13,
   "metadata": {},
   "outputs": [],
   "source": [
    "########### Contractive Autoencoder ##########\n",
    "input_dim = x_train.shape[1]\n",
    "input_layer = Input(shape=(input_dim, ))\n",
    "\n",
    "encoding_dim = 12\n",
    "#learning_rate = 1e-7\n",
    "\n",
    "encoded = Dense(encoding_dim, activation='relu', name = 'encoded')(input_layer)\n",
    "decoded = Dense(input_dim, activation='sigmoid')(encoded)\n",
    "\n",
    "# implenment an autoencoder, creat encoder and decoder\n",
    "\n",
    "autoencoder = Model(input_layer, decoded)\n",
    "\n",
    "encoder = Model(input_layer, encoded)\n",
    "encoded_input = Input(shape=(encoding_dim,))\n",
    "decoder_layer = autoencoder.layers[-1]\n",
    "decoder = Model(encoded_input, decoder_layer(encoded_input))\n",
    "\n",
    "lam = 10e-6\n",
    "\n",
    "def contractive_loss(y_pred, y_true):\n",
    "    \n",
    "        mse = K.mean(K.square(y_true - y_pred), axis=1)\n",
    "        W = K.variable(value=autoencoder.get_layer('encoded').get_weights()[0])\n",
    "        W = K.transpose(W)\n",
    "        h = autoencoder.get_layer('encoded').output\n",
    "        dh = h * (1 - h)\n",
    "        contractive = lam * K.sum(dh**2 * K.sum(W**2, axis=1), axis=1)\n",
    "\n",
    "        return mse + contractive\n",
    "    \n",
    "autoencoder.compile(optimizer='adam', loss= contractive_loss)"
   ]
  },
  {
   "cell_type": "code",
   "execution_count": 14,
   "metadata": {},
   "outputs": [
    {
     "name": "stdout",
     "output_type": "stream",
     "text": [
      "_________________________________________________________________\n",
      "Layer (type)                 Output Shape              Param #   \n",
      "=================================================================\n",
      "input_5 (InputLayer)         (None, 64)                0         \n",
      "_________________________________________________________________\n",
      "encoded (Dense)              (None, 12)                780       \n",
      "_________________________________________________________________\n",
      "dense_5 (Dense)              (None, 64)                832       \n",
      "=================================================================\n",
      "Total params: 1,612\n",
      "Trainable params: 1,612\n",
      "Non-trainable params: 0\n",
      "_________________________________________________________________\n"
     ]
    }
   ],
   "source": [
    "autoencoder.summary()"
   ]
  },
  {
   "cell_type": "code",
   "execution_count": 15,
   "metadata": {},
   "outputs": [
    {
     "name": "stdout",
     "output_type": "stream",
     "text": [
      "WARNING:tensorflow:From /home/ec2-user/anaconda3/envs/tensorflow_p36/lib/python3.6/site-packages/tensorflow_core/python/ops/math_grad.py:1375: where (from tensorflow.python.ops.array_ops) is deprecated and will be removed in a future version.\n",
      "Instructions for updating:\n",
      "Use tf.where in 2.0, which has the same broadcast rule as np.where\n"
     ]
    }
   ],
   "source": [
    "ae_train = autoencoder.fit(x_train, x_train,\n",
    "                epochs=200,\n",
    "                batch_size=128,\n",
    "                shuffle=True,\n",
    "                validation_data=(x_test, x_test),\n",
    "                verbose = 0\n",
    "                ).history"
   ]
  },
  {
   "cell_type": "code",
   "execution_count": 16,
   "metadata": {},
   "outputs": [
    {
     "data": {
      "image/png": "[encoded data removed]",
      "text/plain": [
       "<Figure size 432x288 with 1 Axes>"
      ]
     },
     "metadata": {},
     "output_type": "display_data"
    }
   ],
   "source": [
    "# CAE loss\n",
    "plt.plot(ae_train['loss'])\n",
    "plt.plot(ae_train['val_loss'])\n",
    "plt.title('CAE model loss')\n",
    "plt.ylabel('loss')\n",
    "plt.xlabel('epoch')\n",
    "plt.legend(['Training', 'Validation'], loc='upper right')\n",
    "plt.show()"
   ]
  },
  {
   "cell_type": "code",
   "execution_count": 17,
   "metadata": {},
   "outputs": [],
   "source": [
    "# create encoded data\n",
    "encoded_data = encoder.predict(x_test)\n",
    "#decoded_data = decoder.predict(encoded_data)\n",
    "\n",
    "# transform to SOM input type\n",
    "encoded_som = pd.DataFrame(encoded_data)\n",
    "#decoded_som = pd.DataFrame(decoded_data)"
   ]
  },
  {
   "cell_type": "code",
   "execution_count": 18,
   "metadata": {},
   "outputs": [],
   "source": [
    "nonzero = list(map(lambda i: any(encoded_data[:,i] != 0), range(encoded_data.shape[1])))\n",
    "encoded_som_nonzero = pd.DataFrame(encoded_data[:,nonzero])\n",
    "encoded_som_nonzero.to_csv(path_or_buf='output/dim064_CAE_encoded.csv',index= False)"
   ]
  },
  {
   "cell_type": "markdown",
   "metadata": {},
   "source": [
    "# Denoising Autoencoder"
   ]
  },
  {
   "cell_type": "code",
   "execution_count": 19,
   "metadata": {},
   "outputs": [],
   "source": [
    "############ Denoiding Autoencoder ###########\n",
    "\n",
    "# add noise\n",
    "noise_factor = 0.5\n",
    "x_train_noisy = x_train + noise_factor * np.random.normal(loc=0.0, scale=1.0, size=x_train.shape) \n",
    "x_test_noisy = x_test + noise_factor * np.random.normal(loc=0.0, scale=1.0, size=x_test.shape) \n",
    "\n",
    "x_train_noisy = np.clip(x_train_noisy, 0., 1.)\n",
    "x_test_noisy = np.clip(x_test_noisy, 0., 1.)\n",
    "\n",
    "input_dim = x_train.shape[1]\n",
    "input_layer = Input(shape=(input_dim, ))\n",
    "\n",
    "encoding_dim = 12\n",
    "#learning_rate = 1e-7\n",
    "\n",
    "encoded = Dense(encoding_dim, activation='relu')(input_layer)\n",
    "decoded = Dense(input_dim, activation='sigmoid')(encoded)\n",
    "\n",
    "# implenment an autoencoder, creat encoder and decoder\n",
    "\n",
    "autoencoder = Model(input_layer, decoded)\n",
    "\n",
    "encoder = Model(input_layer, encoded)\n",
    "encoded_input = Input(shape=(encoding_dim,))\n",
    "decoder_layer = autoencoder.layers[-1]\n",
    "decoder = Model(encoded_input, decoder_layer(encoded_input))\n",
    "                                             \n",
    "autoencoder.compile(optimizer='adam', loss='mean_squared_error')"
   ]
  },
  {
   "cell_type": "code",
   "execution_count": 20,
   "metadata": {},
   "outputs": [
    {
     "name": "stdout",
     "output_type": "stream",
     "text": [
      "_________________________________________________________________\n",
      "Layer (type)                 Output Shape              Param #   \n",
      "=================================================================\n",
      "input_7 (InputLayer)         (None, 64)                0         \n",
      "_________________________________________________________________\n",
      "dense_6 (Dense)              (None, 12)                780       \n",
      "_________________________________________________________________\n",
      "dense_7 (Dense)              (None, 64)                832       \n",
      "=================================================================\n",
      "Total params: 1,612\n",
      "Trainable params: 1,612\n",
      "Non-trainable params: 0\n",
      "_________________________________________________________________\n"
     ]
    }
   ],
   "source": [
    "autoencoder.summary()"
   ]
  },
  {
   "cell_type": "code",
   "execution_count": 21,
   "metadata": {},
   "outputs": [],
   "source": [
    "ae_train = autoencoder.fit(x_train_noisy, x_train,\n",
    "                epochs=200,\n",
    "                batch_size=128,\n",
    "                shuffle=False,\n",
    "                validation_data=(x_test_noisy, x_test),\n",
    "                verbose = 0\n",
    "                ).history"
   ]
  },
  {
   "cell_type": "code",
   "execution_count": 22,
   "metadata": {},
   "outputs": [
    {
     "data": {
      "image/png": "[encoded data removed]",
      "text/plain": [
       "<Figure size 432x288 with 1 Axes>"
      ]
     },
     "metadata": {},
     "output_type": "display_data"
    }
   ],
   "source": [
    "# DAE loss\n",
    "plt.plot(ae_train['loss'])\n",
    "plt.plot(ae_train['val_loss'])\n",
    "plt.title('DAE model loss')\n",
    "plt.ylabel('loss')\n",
    "plt.xlabel('epoch')\n",
    "plt.legend(['Training', 'Validation'], loc='upper right')\n",
    "plt.show()"
   ]
  },
  {
   "cell_type": "code",
   "execution_count": 23,
   "metadata": {},
   "outputs": [],
   "source": [
    "# create encoded data\n",
    "encoded_data = encoder.predict(x_test)\n",
    "#decoded_data = decoder.predict(encoded_data)\n",
    "\n",
    "# transform to SOM input type\n",
    "encoded_som = pd.DataFrame(encoded_data)\n",
    "#decoded_som = pd.DataFrame(decoded_data)\n",
    "\n",
    "nonzero = list(map(lambda i: any(encoded_data[:,i] != 0), range(encoded_data.shape[1])))\n",
    "encoded_som_nonzero = pd.DataFrame(encoded_data[:,nonzero])\n",
    "encoded_som_nonzero.to_csv(path_or_buf='output/dim064_DAE_encoded.csv',index= False)"
   ]
  },
  {
   "cell_type": "markdown",
   "metadata": {},
   "source": [
    "# Convolutional Autoencoder"
   ]
  },
  {
   "cell_type": "code",
   "execution_count": 24,
   "metadata": {},
   "outputs": [
    {
     "name": "stdout",
     "output_type": "stream",
     "text": [
      "WARNING:tensorflow:From /home/ec2-user/anaconda3/envs/tensorflow_p36/lib/python3.6/site-packages/keras/backend/tensorflow_backend.py:3976: The name tf.nn.max_pool is deprecated. Please use tf.nn.max_pool2d instead.\n",
      "\n"
     ]
    },
    {
     "name": "stderr",
     "output_type": "stream",
     "text": [
      "/home/ec2-user/anaconda3/envs/tensorflow_p36/lib/python3.6/site-packages/ipykernel/__main__.py:4: FutureWarning: Method .as_matrix will be removed in a future version. Use .values instead.\n",
      "/home/ec2-user/anaconda3/envs/tensorflow_p36/lib/python3.6/site-packages/ipykernel/__main__.py:6: FutureWarning: Method .as_matrix will be removed in a future version. Use .values instead.\n"
     ]
    }
   ],
   "source": [
    "input_dim = x_train.shape[1]\n",
    "\n",
    "# tranform the input format, add a dimension\n",
    "x_train_con = x_train.as_matrix()\n",
    "x_train_con = np.reshape(x_train_con, (-1, input_dim, 1))\n",
    "x_text_con = x_test.as_matrix()\n",
    "x_text_con = np.reshape(x_text_con, (-1, input_dim, 1))\n",
    "\n",
    "input_layer = Input(shape=(input_dim,1))\n",
    "\n",
    "x = Conv1D(32, 3, activation='relu', padding='same')(input_layer)\n",
    "x = MaxPooling1D(4, padding='same')(x)\n",
    "x = Conv1D(16, 3, activation='relu', padding='same')(x)\n",
    "x = MaxPooling1D(4, padding='same')(x)\n",
    "x = Conv1D(4, 3, activation='relu', padding='same')(x)\n",
    "encoded = MaxPooling1D(2, padding='same')(x)\n",
    "\n",
    "\n",
    "x = Conv1D(4, 3, activation='relu', padding='same')(encoded)\n",
    "x = UpSampling1D(2)(x)\n",
    "x = Conv1D(16, 3, activation='relu', padding='same')(x)\n",
    "x = UpSampling1D(4)(x)\n",
    "x = Conv1D(32, 3, activation='relu', padding='same')(x)\n",
    "x = UpSampling1D(4)(x)\n",
    "decoded = Conv1D(1, 1, activation='sigmoid')(x)\n",
    "\n",
    "autoencoder = Model(input_layer, decoded)\n",
    "encoder = Model(input_layer, encoded)\n",
    "autoencoder.compile(optimizer='adam', loss='mean_squared_error')"
   ]
  },
  {
   "cell_type": "code",
   "execution_count": 25,
   "metadata": {},
   "outputs": [
    {
     "name": "stdout",
     "output_type": "stream",
     "text": [
      "_________________________________________________________________\n",
      "Layer (type)                 Output Shape              Param #   \n",
      "=================================================================\n",
      "input_9 (InputLayer)         (None, 64, 1)             0         \n",
      "_________________________________________________________________\n",
      "conv1d_1 (Conv1D)            (None, 64, 32)            128       \n",
      "_________________________________________________________________\n",
      "max_pooling1d_1 (MaxPooling1 (None, 16, 32)            0         \n",
      "_________________________________________________________________\n",
      "conv1d_2 (Conv1D)            (None, 16, 16)            1552      \n",
      "_________________________________________________________________\n",
      "max_pooling1d_2 (MaxPooling1 (None, 4, 16)             0         \n",
      "_________________________________________________________________\n",
      "conv1d_3 (Conv1D)            (None, 4, 4)              196       \n",
      "_________________________________________________________________\n",
      "max_pooling1d_3 (MaxPooling1 (None, 2, 4)              0         \n",
      "_________________________________________________________________\n",
      "conv1d_4 (Conv1D)            (None, 2, 4)              52        \n",
      "_________________________________________________________________\n",
      "up_sampling1d_1 (UpSampling1 (None, 4, 4)              0         \n",
      "_________________________________________________________________\n",
      "conv1d_5 (Conv1D)            (None, 4, 16)             208       \n",
      "_________________________________________________________________\n",
      "up_sampling1d_2 (UpSampling1 (None, 16, 16)            0         \n",
      "_________________________________________________________________\n",
      "conv1d_6 (Conv1D)            (None, 16, 32)            1568      \n",
      "_________________________________________________________________\n",
      "up_sampling1d_3 (UpSampling1 (None, 64, 32)            0         \n",
      "_________________________________________________________________\n",
      "conv1d_7 (Conv1D)            (None, 64, 1)             33        \n",
      "=================================================================\n",
      "Total params: 3,737\n",
      "Trainable params: 3,737\n",
      "Non-trainable params: 0\n",
      "_________________________________________________________________\n"
     ]
    }
   ],
   "source": [
    "autoencoder.summary()"
   ]
  },
  {
   "cell_type": "code",
   "execution_count": 26,
   "metadata": {},
   "outputs": [
    {
     "name": "stdout",
     "output_type": "stream",
     "text": [
      "WARNING:tensorflow:From /home/ec2-user/anaconda3/envs/tensorflow_p36/lib/python3.6/site-packages/keras/callbacks.py:850: The name tf.summary.merge_all is deprecated. Please use tf.compat.v1.summary.merge_all instead.\n",
      "\n",
      "WARNING:tensorflow:From /home/ec2-user/anaconda3/envs/tensorflow_p36/lib/python3.6/site-packages/keras/callbacks.py:853: The name tf.summary.FileWriter is deprecated. Please use tf.compat.v1.summary.FileWriter instead.\n",
      "\n",
      "WARNING:tensorflow:From /home/ec2-user/anaconda3/envs/tensorflow_p36/lib/python3.6/site-packages/keras/callbacks.py:995: The name tf.Summary is deprecated. Please use tf.compat.v1.Summary instead.\n",
      "\n"
     ]
    }
   ],
   "source": [
    "ae_train = autoencoder.fit(x_train_con, x_train_con,\n",
    "                epochs=200,\n",
    "                batch_size=128,\n",
    "                shuffle=True,\n",
    "                validation_data=(x_text_con, x_text_con),\n",
    "                verbose = 0,\n",
    "                callbacks=[TensorBoard(log_dir='/tmp/autoencoder')]).history"
   ]
  },
  {
   "cell_type": "code",
   "execution_count": 27,
   "metadata": {},
   "outputs": [
    {
     "data": {
      "image/png": "[encoded data removed]",
      "text/plain": [
       "<Figure size 432x288 with 1 Axes>"
      ]
     },
     "metadata": {},
     "output_type": "display_data"
    }
   ],
   "source": [
    "# Con_AE loss\n",
    "plt.plot(ae_train['loss'])\n",
    "plt.plot(ae_train['val_loss'])\n",
    "plt.title('Conv_AE model loss')\n",
    "plt.ylabel('loss')\n",
    "plt.xlabel('epoch')\n",
    "plt.legend(['Training', 'Validation'], loc='upper right')\n",
    "plt.show()"
   ]
  },
  {
   "cell_type": "code",
   "execution_count": 28,
   "metadata": {},
   "outputs": [],
   "source": [
    "encoded_data = encoder.predict(x_text_con)"
   ]
  },
  {
   "cell_type": "code",
   "execution_count": 29,
   "metadata": {},
   "outputs": [],
   "source": [
    "# create encoded data\n",
    "\n",
    "encoded_data = encoded_data.reshape(-1, 2*4)\n",
    "\n",
    "# transform to SOM input type\n",
    "encoded_som = pd.DataFrame(encoded_data)\n",
    "#decoded_som = pd.DataFrame(decoded_data)\n",
    "\n",
    "nonzero = list(map(lambda i: any(encoded_data[:,i] != 0), range(encoded_data.shape[1])))\n",
    "encoded_som_nonzero = pd.DataFrame(encoded_data[:,nonzero])\n",
    "encoded_som_nonzero.to_csv(path_or_buf='output/dim064_ConAE_encoded.csv',index= False)"
   ]
  }
 ],
 "metadata": {
  "kernelspec": {
   "display_name": "conda_tensorflow_p36",
   "language": "python",
   "name": "conda_tensorflow_p36"
  },
  "language_info": {
   "codemirror_mode": {
    "name": "ipython",
    "version": 3
   },
   "file_extension": ".py",
   "mimetype": "text/x-python",
   "name": "python",
   "nbconvert_exporter": "python",
   "pygments_lexer": "ipython3",
   "version": "3.6.6"
  }
 },
 "nbformat": 4,
 "nbformat_minor": 2
}
